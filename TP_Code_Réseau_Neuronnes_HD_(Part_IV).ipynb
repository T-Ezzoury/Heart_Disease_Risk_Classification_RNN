{
 "cells": [
  {
   "cell_type": "markdown",
   "id": "619c9c54",
   "metadata": {},
   "source": [
    "# Problème IV : Classification"
   ]
  },
  {
   "cell_type": "markdown",
   "id": "b7ec0f99",
   "metadata": {},
   "source": [
    "## 4.1 Analyse des données :"
   ]
  },
  {
   "cell_type": "markdown",
   "id": "30fcc4a5",
   "metadata": {},
   "source": [
    "On commence par importer les librairies nécessaires."
   ]
  },
  {
   "cell_type": "code",
   "execution_count": 1,
   "id": "92321af8",
   "metadata": {},
   "outputs": [
    {
     "name": "stdout",
     "output_type": "stream",
     "text": [
      "WARNING:tensorflow:From C:\\Users\\OH\\anaconda3\\lib\\site-packages\\keras\\src\\losses.py:2976: The name tf.losses.sparse_softmax_cross_entropy is deprecated. Please use tf.compat.v1.losses.sparse_softmax_cross_entropy instead.\n",
      "\n"
     ]
    }
   ],
   "source": [
    "from keras.models import Sequential\n",
    "from keras.layers import Dense, Dropout, SimpleRNN\n",
    "from keras.callbacks import EarlyStopping\n",
    "import tensorflow as tf\n",
    "from tensorflow import keras\n",
    "from tensorflow.keras import Sequential\n",
    "from tensorflow.keras.layers import Flatten, Dense, Softmax\n",
    "from tensorflow.keras import optimizers\n",
    "from sklearn.model_selection import train_test_split\n",
    "\n",
    "import numpy as np\n",
    "import matplotlib.pyplot as plt\n",
    "import pandas as pd"
   ]
  },
  {
   "cell_type": "markdown",
   "id": "2206d684",
   "metadata": {},
   "source": [
    "Puis, importons notre base de données."
   ]
  },
  {
   "cell_type": "code",
   "execution_count": 398,
   "id": "d476ec65",
   "metadata": {},
   "outputs": [
    {
     "data": {
      "text/html": [
       "<div>\n",
       "<style scoped>\n",
       "    .dataframe tbody tr th:only-of-type {\n",
       "        vertical-align: middle;\n",
       "    }\n",
       "\n",
       "    .dataframe tbody tr th {\n",
       "        vertical-align: top;\n",
       "    }\n",
       "\n",
       "    .dataframe thead th {\n",
       "        text-align: right;\n",
       "    }\n",
       "</style>\n",
       "<table border=\"1\" class=\"dataframe\">\n",
       "  <thead>\n",
       "    <tr style=\"text-align: right;\">\n",
       "      <th></th>\n",
       "      <th>Age</th>\n",
       "      <th>Sexe</th>\n",
       "      <th>ChestPainType</th>\n",
       "      <th>RestingBP</th>\n",
       "      <th>Cholesterol</th>\n",
       "      <th>FastingBS</th>\n",
       "      <th>RestingECG</th>\n",
       "      <th>MaxHR</th>\n",
       "      <th>ExerciseAngina</th>\n",
       "      <th>Oldpeak</th>\n",
       "      <th>ST_Slope</th>\n",
       "      <th>HeartDisease</th>\n",
       "    </tr>\n",
       "  </thead>\n",
       "  <tbody>\n",
       "    <tr>\n",
       "      <th>0</th>\n",
       "      <td>40</td>\n",
       "      <td>M</td>\n",
       "      <td>ATA</td>\n",
       "      <td>140</td>\n",
       "      <td>289</td>\n",
       "      <td>0</td>\n",
       "      <td>Normal</td>\n",
       "      <td>172</td>\n",
       "      <td>N</td>\n",
       "      <td>0.0</td>\n",
       "      <td>Up</td>\n",
       "      <td>0</td>\n",
       "    </tr>\n",
       "    <tr>\n",
       "      <th>1</th>\n",
       "      <td>49</td>\n",
       "      <td>F</td>\n",
       "      <td>NAP</td>\n",
       "      <td>160</td>\n",
       "      <td>180</td>\n",
       "      <td>0</td>\n",
       "      <td>Normal</td>\n",
       "      <td>156</td>\n",
       "      <td>N</td>\n",
       "      <td>1.0</td>\n",
       "      <td>Flat</td>\n",
       "      <td>1</td>\n",
       "    </tr>\n",
       "    <tr>\n",
       "      <th>2</th>\n",
       "      <td>37</td>\n",
       "      <td>M</td>\n",
       "      <td>ATA</td>\n",
       "      <td>130</td>\n",
       "      <td>283</td>\n",
       "      <td>0</td>\n",
       "      <td>ST</td>\n",
       "      <td>98</td>\n",
       "      <td>N</td>\n",
       "      <td>0.0</td>\n",
       "      <td>Up</td>\n",
       "      <td>0</td>\n",
       "    </tr>\n",
       "    <tr>\n",
       "      <th>3</th>\n",
       "      <td>48</td>\n",
       "      <td>F</td>\n",
       "      <td>ASY</td>\n",
       "      <td>138</td>\n",
       "      <td>214</td>\n",
       "      <td>0</td>\n",
       "      <td>Normal</td>\n",
       "      <td>108</td>\n",
       "      <td>Y</td>\n",
       "      <td>1.5</td>\n",
       "      <td>Flat</td>\n",
       "      <td>1</td>\n",
       "    </tr>\n",
       "    <tr>\n",
       "      <th>4</th>\n",
       "      <td>54</td>\n",
       "      <td>M</td>\n",
       "      <td>NAP</td>\n",
       "      <td>150</td>\n",
       "      <td>195</td>\n",
       "      <td>0</td>\n",
       "      <td>Normal</td>\n",
       "      <td>122</td>\n",
       "      <td>N</td>\n",
       "      <td>0.0</td>\n",
       "      <td>Up</td>\n",
       "      <td>0</td>\n",
       "    </tr>\n",
       "  </tbody>\n",
       "</table>\n",
       "</div>"
      ],
      "text/plain": [
       "   Age Sexe ChestPainType  RestingBP  Cholesterol  FastingBS RestingECG  \\\n",
       "0   40    M           ATA        140          289          0     Normal   \n",
       "1   49    F           NAP        160          180          0     Normal   \n",
       "2   37    M           ATA        130          283          0         ST   \n",
       "3   48    F           ASY        138          214          0     Normal   \n",
       "4   54    M           NAP        150          195          0     Normal   \n",
       "\n",
       "   MaxHR ExerciseAngina  Oldpeak ST_Slope  HeartDisease  \n",
       "0    172              N      0.0       Up             0  \n",
       "1    156              N      1.0     Flat             1  \n",
       "2     98              N      0.0       Up             0  \n",
       "3    108              Y      1.5     Flat             1  \n",
       "4    122              N      0.0       Up             0  "
      ]
     },
     "execution_count": 398,
     "metadata": {},
     "output_type": "execute_result"
    }
   ],
   "source": [
    "data= pd.read_csv(\"HD_Complete_Data.csv\", sep=\";\")\n",
    "data.head(5)"
   ]
  },
  {
   "cell_type": "markdown",
   "id": "11e23dca",
   "metadata": {},
   "source": [
    "Divisons notre base de données en prédicteurs et variable à classifier."
   ]
  },
  {
   "cell_type": "code",
   "execution_count": 399,
   "id": "85b96f21",
   "metadata": {
    "scrolled": true
   },
   "outputs": [],
   "source": [
    "x= data.iloc[:,:-1]\n",
    "y= data.iloc[:,-1]"
   ]
  },
  {
   "cell_type": "markdown",
   "id": "82d79fb6",
   "metadata": {},
   "source": [
    "Commençons par l'analyse des colonnes non quantitatives."
   ]
  },
  {
   "cell_type": "code",
   "execution_count": 400,
   "id": "e5b96040",
   "metadata": {},
   "outputs": [
    {
     "data": {
      "text/plain": [
       "['Sexe', 'ChestPainType', 'RestingECG', 'ExerciseAngina', 'ST_Slope']"
      ]
     },
     "execution_count": 400,
     "metadata": {},
     "output_type": "execute_result"
    }
   ],
   "source": [
    "non_numerical_columns = x.select_dtypes(exclude='number').columns.tolist()\n",
    "non_numerical_columns"
   ]
  },
  {
   "cell_type": "markdown",
   "id": "2f3deb6b",
   "metadata": {},
   "source": [
    "On extrait une liste des colonne numériques à analyser plus tard."
   ]
  },
  {
   "cell_type": "code",
   "execution_count": 401,
   "id": "009d95fb",
   "metadata": {},
   "outputs": [
    {
     "data": {
      "text/plain": [
       "['Age', 'RestingBP', 'Cholesterol', 'FastingBS', 'MaxHR', 'Oldpeak']"
      ]
     },
     "execution_count": 401,
     "metadata": {},
     "output_type": "execute_result"
    }
   ],
   "source": [
    "numerical_columns = [data.columns[i] for i in range(len(data.columns)) if data.columns[i] not in non_numerical_columns]\n",
    "numerical_columns = numerical_columns[:-1]\n",
    "numerical_columns"
   ]
  },
  {
   "cell_type": "markdown",
   "id": "7e8ba6ed",
   "metadata": {},
   "source": [
    "On essaie d'extraire les valeurs distinctes de chacune de ces variables qualitatives:"
   ]
  },
  {
   "cell_type": "code",
   "execution_count": 402,
   "id": "d2b4368c",
   "metadata": {},
   "outputs": [
    {
     "name": "stdout",
     "output_type": "stream",
     "text": [
      "Sexe  :  {'F', 'M'}\n",
      "ChestPainType  :  {'ASY', 'NAP', 'TA', 'ATA'}\n",
      "RestingECG  :  {'ST', 'LVH', 'Normal'}\n",
      "ExerciseAngina  :  {'Y', 'N'}\n",
      "ST_Slope  :  {'Flat', 'Down', 'Up'}\n"
     ]
    }
   ],
   "source": [
    "for c in non_numerical_columns:\n",
    "    print(c, \" : \", set(data[c]))"
   ]
  },
  {
   "cell_type": "markdown",
   "id": "1237ba8d",
   "metadata": {},
   "source": [
    "Il s'agit des descriptions qualitatives des caractères qui peuvent être liés à une maladie cardiaque (douleur thoracique...). Désignons lesquelles sont hiérarchiques ou non."
   ]
  },
  {
   "cell_type": "markdown",
   "id": "e6a0f2d6",
   "metadata": {},
   "source": [
    "-> Sexe : non hiérarchique.<br>\n",
    "-> ChestPainType : non hierarchique car quelques instances n'ont aucune relation entre eux.<br>\n",
    "-> RestingECG : types of resting electrocardiogram (ECG) results, donc hiérarchique.<br>\n",
    "-> ExerciseAngina : designe si l'individu expérience une angine thoracique, donc on peut la décrire de hiérarchique.<br>\n",
    "-> ST_Slope : décrit une pente d'une segment de test ECG donc hiérarchique."
   ]
  },
  {
   "cell_type": "markdown",
   "id": "c692c6b8",
   "metadata": {},
   "source": [
    "Il faut bien noter ici qu'il est nécessaire d'encoder hiérarchiquement (si possible) les variables qualitatives ci dessus car les réseaux de neurones ne prennent en entrée que du numérique. (On peut aussi les encoder avec One Hot Encoding comme mentionné dans le cours)"
   ]
  },
  {
   "cell_type": "code",
   "execution_count": 403,
   "id": "c6fce339",
   "metadata": {},
   "outputs": [],
   "source": [
    "from sklearn.preprocessing import LabelEncoder\n",
    "\n",
    "column_name = 'Sexe'\n",
    "label_encoder = LabelEncoder()\n",
    "\n",
    "data[column_name + '_encoded'] = label_encoder.fit_transform(data[column_name])"
   ]
  },
  {
   "cell_type": "code",
   "execution_count": 404,
   "id": "bf23ba87",
   "metadata": {},
   "outputs": [],
   "source": [
    "column_name = 'ChestPainType'\n",
    "label_encoder = LabelEncoder()\n",
    "\n",
    "data[column_name + '_encoded'] = label_encoder.fit_transform(data[column_name])"
   ]
  },
  {
   "cell_type": "code",
   "execution_count": 405,
   "id": "a275ce8c",
   "metadata": {},
   "outputs": [],
   "source": [
    "column_name = 'RestingECG'\n",
    "label_encoder = LabelEncoder()\n",
    "\n",
    "data[column_name + '_encoded'] = label_encoder.fit_transform(data[column_name])"
   ]
  },
  {
   "cell_type": "code",
   "execution_count": 406,
   "id": "c1e77b08",
   "metadata": {},
   "outputs": [],
   "source": [
    "column_name = 'ExerciseAngina'\n",
    "label_encoder = LabelEncoder()\n",
    "\n",
    "data[column_name + '_encoded'] = label_encoder.fit_transform(data[column_name])"
   ]
  },
  {
   "cell_type": "code",
   "execution_count": 407,
   "id": "3bee4905",
   "metadata": {},
   "outputs": [],
   "source": [
    "column_name = 'ST_Slope'\n",
    "label_encoder = LabelEncoder()\n",
    "\n",
    "data[column_name + '_encoded'] = label_encoder.fit_transform(data[column_name])"
   ]
  },
  {
   "cell_type": "code",
   "execution_count": 408,
   "id": "213ac805",
   "metadata": {},
   "outputs": [],
   "source": [
    "# on supprime les colonnes catégorielles qu'on vient d'encoder\n",
    "data= data.drop(non_numerical_columns, axis=1)"
   ]
  },
  {
   "cell_type": "code",
   "execution_count": 409,
   "id": "0f200c61",
   "metadata": {},
   "outputs": [
    {
     "data": {
      "text/html": [
       "<div>\n",
       "<style scoped>\n",
       "    .dataframe tbody tr th:only-of-type {\n",
       "        vertical-align: middle;\n",
       "    }\n",
       "\n",
       "    .dataframe tbody tr th {\n",
       "        vertical-align: top;\n",
       "    }\n",
       "\n",
       "    .dataframe thead th {\n",
       "        text-align: right;\n",
       "    }\n",
       "</style>\n",
       "<table border=\"1\" class=\"dataframe\">\n",
       "  <thead>\n",
       "    <tr style=\"text-align: right;\">\n",
       "      <th></th>\n",
       "      <th>Age</th>\n",
       "      <th>RestingBP</th>\n",
       "      <th>Cholesterol</th>\n",
       "      <th>FastingBS</th>\n",
       "      <th>MaxHR</th>\n",
       "      <th>Oldpeak</th>\n",
       "      <th>HeartDisease</th>\n",
       "      <th>Sexe_encoded</th>\n",
       "      <th>ChestPainType_encoded</th>\n",
       "      <th>RestingECG_encoded</th>\n",
       "      <th>ExerciseAngina_encoded</th>\n",
       "      <th>ST_Slope_encoded</th>\n",
       "    </tr>\n",
       "  </thead>\n",
       "  <tbody>\n",
       "    <tr>\n",
       "      <th>0</th>\n",
       "      <td>40</td>\n",
       "      <td>140</td>\n",
       "      <td>289</td>\n",
       "      <td>0</td>\n",
       "      <td>172</td>\n",
       "      <td>0.0</td>\n",
       "      <td>0</td>\n",
       "      <td>1</td>\n",
       "      <td>1</td>\n",
       "      <td>1</td>\n",
       "      <td>0</td>\n",
       "      <td>2</td>\n",
       "    </tr>\n",
       "    <tr>\n",
       "      <th>1</th>\n",
       "      <td>49</td>\n",
       "      <td>160</td>\n",
       "      <td>180</td>\n",
       "      <td>0</td>\n",
       "      <td>156</td>\n",
       "      <td>1.0</td>\n",
       "      <td>1</td>\n",
       "      <td>0</td>\n",
       "      <td>2</td>\n",
       "      <td>1</td>\n",
       "      <td>0</td>\n",
       "      <td>1</td>\n",
       "    </tr>\n",
       "    <tr>\n",
       "      <th>2</th>\n",
       "      <td>37</td>\n",
       "      <td>130</td>\n",
       "      <td>283</td>\n",
       "      <td>0</td>\n",
       "      <td>98</td>\n",
       "      <td>0.0</td>\n",
       "      <td>0</td>\n",
       "      <td>1</td>\n",
       "      <td>1</td>\n",
       "      <td>2</td>\n",
       "      <td>0</td>\n",
       "      <td>2</td>\n",
       "    </tr>\n",
       "    <tr>\n",
       "      <th>3</th>\n",
       "      <td>48</td>\n",
       "      <td>138</td>\n",
       "      <td>214</td>\n",
       "      <td>0</td>\n",
       "      <td>108</td>\n",
       "      <td>1.5</td>\n",
       "      <td>1</td>\n",
       "      <td>0</td>\n",
       "      <td>0</td>\n",
       "      <td>1</td>\n",
       "      <td>1</td>\n",
       "      <td>1</td>\n",
       "    </tr>\n",
       "    <tr>\n",
       "      <th>4</th>\n",
       "      <td>54</td>\n",
       "      <td>150</td>\n",
       "      <td>195</td>\n",
       "      <td>0</td>\n",
       "      <td>122</td>\n",
       "      <td>0.0</td>\n",
       "      <td>0</td>\n",
       "      <td>1</td>\n",
       "      <td>2</td>\n",
       "      <td>1</td>\n",
       "      <td>0</td>\n",
       "      <td>2</td>\n",
       "    </tr>\n",
       "  </tbody>\n",
       "</table>\n",
       "</div>"
      ],
      "text/plain": [
       "   Age  RestingBP  Cholesterol  FastingBS  MaxHR  Oldpeak  HeartDisease  \\\n",
       "0   40        140          289          0    172      0.0             0   \n",
       "1   49        160          180          0    156      1.0             1   \n",
       "2   37        130          283          0     98      0.0             0   \n",
       "3   48        138          214          0    108      1.5             1   \n",
       "4   54        150          195          0    122      0.0             0   \n",
       "\n",
       "   Sexe_encoded  ChestPainType_encoded  RestingECG_encoded  \\\n",
       "0             1                      1                   1   \n",
       "1             0                      2                   1   \n",
       "2             1                      1                   2   \n",
       "3             0                      0                   1   \n",
       "4             1                      2                   1   \n",
       "\n",
       "   ExerciseAngina_encoded  ST_Slope_encoded  \n",
       "0                       0                 2  \n",
       "1                       0                 1  \n",
       "2                       0                 2  \n",
       "3                       1                 1  \n",
       "4                       0                 2  "
      ]
     },
     "execution_count": 409,
     "metadata": {},
     "output_type": "execute_result"
    }
   ],
   "source": [
    "data.head()"
   ]
  },
  {
   "cell_type": "markdown",
   "id": "e0b6bf9c",
   "metadata": {},
   "source": [
    "Maintenant, intéressons nous aux variables numériques."
   ]
  },
  {
   "cell_type": "code",
   "execution_count": 410,
   "id": "96f04ffa",
   "metadata": {},
   "outputs": [
    {
     "data": {
      "text/plain": [
       "['Age', 'RestingBP', 'Cholesterol', 'FastingBS', 'MaxHR', 'Oldpeak']"
      ]
     },
     "execution_count": 410,
     "metadata": {},
     "output_type": "execute_result"
    }
   ],
   "source": [
    "numerical_columns"
   ]
  },
  {
   "cell_type": "code",
   "execution_count": 15,
   "id": "30b6656e",
   "metadata": {},
   "outputs": [
    {
     "data": {
      "image/png": "[encoded data removed]",
      "text/plain": [
       "<Figure size 1200x600 with 6 Axes>"
      ]
     },
     "metadata": {},
     "output_type": "display_data"
    }
   ],
   "source": [
    "fig, axs = plt.subplots(nrows=1, ncols=len(numerical_columns), figsize=(12, 6))\n",
    "\n",
    "for i, column_name in enumerate(numerical_columns):\n",
    "    data.boxplot(column=column_name, ax=axs[i])\n",
    "    axs[i].set_title(f'{column_name}')\n",
    "    axs[i].set_ylabel('Values')\n",
    "\n",
    "plt.show()"
   ]
  },
  {
   "cell_type": "markdown",
   "id": "aa32abcc",
   "metadata": {},
   "source": [
    "On remarque que chacune des variables a son propre échelle, alors ceci renforce l'hypothèse de normalisation des données surtout après l'encodage."
   ]
  },
  {
   "cell_type": "code",
   "execution_count": 16,
   "id": "b2f7cb89",
   "metadata": {},
   "outputs": [
    {
     "name": "stdout",
     "output_type": "stream",
     "text": [
      "nombre de personnes touchés par la maladie : 508\n",
      "nombre de personnes non touchés par la maladie : 410\n"
     ]
    }
   ],
   "source": [
    "print(\"nombre de personnes touchés par la maladie :\", len(data[data[\"HeartDisease\"]==1]))\n",
    "print(\"nombre de personnes non touchés par la maladie :\", len(data[data[\"HeartDisease\"]==0]))"
   ]
  },
  {
   "cell_type": "markdown",
   "id": "9e452ef9",
   "metadata": {},
   "source": [
    "Divisons d'abord nos variables en prédicteurs et la variable à classifier (La variable à classifier est dans la 6ième colonne):"
   ]
  },
  {
   "cell_type": "code",
   "execution_count": 411,
   "id": "b78296bf",
   "metadata": {},
   "outputs": [
    {
     "data": {
      "text/html": [
       "<div>\n",
       "<style scoped>\n",
       "    .dataframe tbody tr th:only-of-type {\n",
       "        vertical-align: middle;\n",
       "    }\n",
       "\n",
       "    .dataframe tbody tr th {\n",
       "        vertical-align: top;\n",
       "    }\n",
       "\n",
       "    .dataframe thead th {\n",
       "        text-align: right;\n",
       "    }\n",
       "</style>\n",
       "<table border=\"1\" class=\"dataframe\">\n",
       "  <thead>\n",
       "    <tr style=\"text-align: right;\">\n",
       "      <th></th>\n",
       "      <th>Age</th>\n",
       "      <th>RestingBP</th>\n",
       "      <th>Cholesterol</th>\n",
       "      <th>FastingBS</th>\n",
       "      <th>MaxHR</th>\n",
       "      <th>Oldpeak</th>\n",
       "      <th>Sexe_encoded</th>\n",
       "      <th>ChestPainType_encoded</th>\n",
       "      <th>RestingECG_encoded</th>\n",
       "      <th>ExerciseAngina_encoded</th>\n",
       "      <th>ST_Slope_encoded</th>\n",
       "    </tr>\n",
       "  </thead>\n",
       "  <tbody>\n",
       "    <tr>\n",
       "      <th>0</th>\n",
       "      <td>40</td>\n",
       "      <td>140</td>\n",
       "      <td>289</td>\n",
       "      <td>0</td>\n",
       "      <td>172</td>\n",
       "      <td>0.0</td>\n",
       "      <td>1</td>\n",
       "      <td>1</td>\n",
       "      <td>1</td>\n",
       "      <td>0</td>\n",
       "      <td>2</td>\n",
       "    </tr>\n",
       "    <tr>\n",
       "      <th>1</th>\n",
       "      <td>49</td>\n",
       "      <td>160</td>\n",
       "      <td>180</td>\n",
       "      <td>0</td>\n",
       "      <td>156</td>\n",
       "      <td>1.0</td>\n",
       "      <td>0</td>\n",
       "      <td>2</td>\n",
       "      <td>1</td>\n",
       "      <td>0</td>\n",
       "      <td>1</td>\n",
       "    </tr>\n",
       "    <tr>\n",
       "      <th>2</th>\n",
       "      <td>37</td>\n",
       "      <td>130</td>\n",
       "      <td>283</td>\n",
       "      <td>0</td>\n",
       "      <td>98</td>\n",
       "      <td>0.0</td>\n",
       "      <td>1</td>\n",
       "      <td>1</td>\n",
       "      <td>2</td>\n",
       "      <td>0</td>\n",
       "      <td>2</td>\n",
       "    </tr>\n",
       "    <tr>\n",
       "      <th>3</th>\n",
       "      <td>48</td>\n",
       "      <td>138</td>\n",
       "      <td>214</td>\n",
       "      <td>0</td>\n",
       "      <td>108</td>\n",
       "      <td>1.5</td>\n",
       "      <td>0</td>\n",
       "      <td>0</td>\n",
       "      <td>1</td>\n",
       "      <td>1</td>\n",
       "      <td>1</td>\n",
       "    </tr>\n",
       "    <tr>\n",
       "      <th>4</th>\n",
       "      <td>54</td>\n",
       "      <td>150</td>\n",
       "      <td>195</td>\n",
       "      <td>0</td>\n",
       "      <td>122</td>\n",
       "      <td>0.0</td>\n",
       "      <td>1</td>\n",
       "      <td>2</td>\n",
       "      <td>1</td>\n",
       "      <td>0</td>\n",
       "      <td>2</td>\n",
       "    </tr>\n",
       "  </tbody>\n",
       "</table>\n",
       "</div>"
      ],
      "text/plain": [
       "   Age  RestingBP  Cholesterol  FastingBS  MaxHR  Oldpeak  Sexe_encoded  \\\n",
       "0   40        140          289          0    172      0.0             1   \n",
       "1   49        160          180          0    156      1.0             0   \n",
       "2   37        130          283          0     98      0.0             1   \n",
       "3   48        138          214          0    108      1.5             0   \n",
       "4   54        150          195          0    122      0.0             1   \n",
       "\n",
       "   ChestPainType_encoded  RestingECG_encoded  ExerciseAngina_encoded  \\\n",
       "0                      1                   1                       0   \n",
       "1                      2                   1                       0   \n",
       "2                      1                   2                       0   \n",
       "3                      0                   1                       1   \n",
       "4                      2                   1                       0   \n",
       "\n",
       "   ST_Slope_encoded  \n",
       "0                 2  \n",
       "1                 1  \n",
       "2                 2  \n",
       "3                 1  \n",
       "4                 2  "
      ]
     },
     "execution_count": 411,
     "metadata": {},
     "output_type": "execute_result"
    }
   ],
   "source": [
    "y= data.iloc[:,6]\n",
    "x= data.iloc[:,[i for i in range(len(data.columns)) if i!=6]]\n",
    "x.head()"
   ]
  },
  {
   "cell_type": "code",
   "execution_count": 412,
   "id": "e894dad2",
   "metadata": {},
   "outputs": [
    {
     "data": {
      "text/plain": [
       "0      0\n",
       "1      1\n",
       "2      0\n",
       "3      1\n",
       "4      0\n",
       "      ..\n",
       "913    1\n",
       "914    1\n",
       "915    1\n",
       "916    1\n",
       "917    0\n",
       "Name: HeartDisease, Length: 918, dtype: int64"
      ]
     },
     "execution_count": 412,
     "metadata": {},
     "output_type": "execute_result"
    }
   ],
   "source": [
    "y"
   ]
  },
  {
   "cell_type": "markdown",
   "id": "78ffabad",
   "metadata": {},
   "source": [
    "normalisons x."
   ]
  },
  {
   "cell_type": "code",
   "execution_count": 19,
   "id": "7a8d9455",
   "metadata": {},
   "outputs": [
    {
     "data": {
      "text/plain": [
       "(918, 11)"
      ]
     },
     "execution_count": 19,
     "metadata": {},
     "output_type": "execute_result"
    }
   ],
   "source": [
    "import sklearn\n",
    "x=sklearn.preprocessing.normalize(x)\n",
    "x.shape"
   ]
  },
  {
   "cell_type": "markdown",
   "id": "245419a2",
   "metadata": {},
   "source": [
    "## 4.2 Implémentation du réseau de neurones :"
   ]
  },
  {
   "cell_type": "markdown",
   "id": "1dcdd8b2",
   "metadata": {},
   "source": [
    "Commençons par une discussion sur les hypèreparamètres à utiliser : notre base de données contient presque 1000 samples, on utilisera un batch size de 100 ce qui correspond à peu près à 10 itérations par epoch. "
   ]
  },
  {
   "cell_type": "markdown",
   "id": "15c0671b",
   "metadata": {},
   "source": [
    "Le principe de mise à jour des weights et biais dans les neurals networks se font en back-propagation : à chaque epoch, on calculera une fonction d'erreur (MSE, MAE, ou Hinge Loss), on essaie de mettre à jour nos paramètres de telle façon que cette fonction soit minimisée à l'aide d'optimiseur tel que : la descente de gradient déterministe, la descente de gradient stochastique (1 batch), ou un mini-batch gradient descent."
   ]
  },
  {
   "cell_type": "markdown",
   "id": "c4e06635",
   "metadata": {},
   "source": [
    "Computationellement, il est très couteux d'utiliser le gradient déterministe, pour nous contourner à ce problème on utilise le gradient mini-batch ou stochastique, qui donnera des predictions avec du bruit, mais on essaie de combler un tel bruit à l'aide d'optimiseurs tels que ADAM, Momentum gradient descent, Nesterov accelerated gradient descent..."
   ]
  },
  {
   "cell_type": "markdown",
   "id": "e7e80e2f",
   "metadata": {},
   "source": [
    "On essayera d'explorer tous ces hypèrparamètres dans la suite."
   ]
  },
  {
   "cell_type": "markdown",
   "id": "ebe87db7",
   "metadata": {},
   "source": [
    "On essaie de diviser nos données d'une manière aléatoire en 20 % pour le test et le reste pour entrainer notre modèle."
   ]
  },
  {
   "cell_type": "code",
   "execution_count": 413,
   "id": "dfc464d3",
   "metadata": {},
   "outputs": [],
   "source": [
    "x_train, x_test, y_train, y_test = train_test_split(x, y, test_size=0.2, random_state=1)"
   ]
  },
  {
   "cell_type": "markdown",
   "id": "40cfd34e",
   "metadata": {},
   "source": [
    "On commence par un modèle directe sans hidden layer."
   ]
  },
  {
   "cell_type": "code",
   "execution_count": 31,
   "id": "004daec1",
   "metadata": {},
   "outputs": [
    {
     "name": "stdout",
     "output_type": "stream",
     "text": [
      "Model: \"sequential_1\"\n",
      "_________________________________________________________________\n",
      " Layer (type)                Output Shape              Param #   \n",
      "=================================================================\n",
      " dense_2 (Dense)             (None, 11)                132       \n",
      "                                                                 \n",
      " dense_3 (Dense)             (None, 1)                 12        \n",
      "                                                                 \n",
      "=================================================================\n",
      "Total params: 144 (576.00 Byte)\n",
      "Trainable params: 144 (576.00 Byte)\n",
      "Non-trainable params: 0 (0.00 Byte)\n",
      "_________________________________________________________________\n"
     ]
    }
   ],
   "source": [
    "model = Sequential()\n",
    "#on utilisera relu puis sigmoid comme fonctions d'activation\n",
    "#Input Layer\n",
    "model.add(Dense(x_train.shape[1], activation='relu', input_dim = x_train.shape[1]))\n",
    "#output layer\n",
    "model.add(Dense(1, activation='sigmoid'))\n",
    "\n",
    "model.summary()"
   ]
  },
  {
   "cell_type": "code",
   "execution_count": 32,
   "id": "f450c577",
   "metadata": {},
   "outputs": [],
   "source": [
    "model.compile(optimizer='Adam', \n",
    "              loss='binary_crossentropy',\n",
    "              metrics=['accuracy'])\n",
    "history = model.fit(x_train, y_train,\n",
    "                    epochs=100,\n",
    "                    batch_size=10,\n",
    "                    validation_data = (x_test, y_test),\n",
    "                    verbose=0)"
   ]
  },
  {
   "cell_type": "code",
   "execution_count": null,
   "id": "7d08b91d",
   "metadata": {},
   "outputs": [],
   "source": [
    "plt.plot(history.history['mse'])\n",
    "plt.show()"
   ]
  },
  {
   "cell_type": "code",
   "execution_count": 34,
   "id": "d9ebcefa",
   "metadata": {},
   "outputs": [
    {
     "data": {
      "image/png": "[encoded data removed]",
      "text/plain": [
       "<Figure size 640x480 with 1 Axes>"
      ]
     },
     "metadata": {},
     "output_type": "display_data"
    }
   ],
   "source": [
    "plt.plot(history.history['accuracy'])\n",
    "plt.show()"
   ]
  },
  {
   "cell_type": "markdown",
   "id": "bfca5681",
   "metadata": {},
   "source": [
    "On remarque beacoup de bruit dans les erreurs et la precision du modèle avec chaque epoch. Essayons d'augmenter le batchsize en gradant le même nombre d'epoch."
   ]
  },
  {
   "cell_type": "code",
   "execution_count": 25,
   "id": "7f28ac32",
   "metadata": {},
   "outputs": [],
   "source": [
    "#on change batch_size=200\n",
    "history = model.fit(x_train, y_train,\n",
    "                    epochs=100,\n",
    "                    batch_size=200,\n",
    "                    validation_data = (x_test, y_test),\n",
    "                    verbose=0)"
   ]
  },
  {
   "cell_type": "code",
   "execution_count": 26,
   "id": "2b323b53",
   "metadata": {},
   "outputs": [
    {
     "data": {
      "image/png": "[encoded data removed]",
      "text/plain": [
       "<Figure size 640x480 with 1 Axes>"
      ]
     },
     "metadata": {},
     "output_type": "display_data"
    }
   ],
   "source": [
    "plt.plot(history.history['mse'])\n",
    "plt.show()"
   ]
  },
  {
   "cell_type": "code",
   "execution_count": 56,
   "id": "fa2d8405",
   "metadata": {},
   "outputs": [
    {
     "data": {
      "image/png": "[encoded data removed]",
      "text/plain": [
       "<Figure size 640x480 with 1 Axes>"
      ]
     },
     "metadata": {},
     "output_type": "display_data"
    }
   ],
   "source": [
    "plt.plot(history.history['accuracy'])\n",
    "plt.show()"
   ]
  },
  {
   "cell_type": "markdown",
   "id": "b13a178f",
   "metadata": {},
   "source": [
    "On constate qu'avec un nombre élevé de batchsize, on constate que les metrics de performance (accuracy & mse) deviennent moins bruités, bien que les variations de la précision semblent plus aggressives. Ceci est due à l'overfitting, notre modèle avec une plus grande batch size est plus biaisé sur une partie de notre base de données et ne peut pas être géneralisable, c'est pour cela qu'on prefère bien une approche stochastique au problème."
   ]
  },
  {
   "cell_type": "markdown",
   "id": "00510519",
   "metadata": {},
   "source": [
    "Il faut aussi prendre un nombre de batch size un peu plus significatif pour éviter le bruit (variance). En gros, on prend un batch size qui est l'optimum du trade-off de la variance et le biais."
   ]
  },
  {
   "cell_type": "markdown",
   "id": "93514b59",
   "metadata": {},
   "source": [
    "Trouvons la précision et le mse du modèle avec des hyperparamètres définit par défaut de la part de Keras."
   ]
  },
  {
   "cell_type": "code",
   "execution_count": 28,
   "id": "03b7e4ea",
   "metadata": {},
   "outputs": [
    {
     "name": "stdout",
     "output_type": "stream",
     "text": [
      "accuracy : 0.820652186870575\n",
      "loss : 0.15164607763290405\n"
     ]
    }
   ],
   "source": [
    "score = model.evaluate(x_test, y_test, verbose=0)\n",
    "print(\"accuracy :\", score[1])\n",
    "print(\"loss :\", score[2])"
   ]
  },
  {
   "cell_type": "markdown",
   "id": "286b9d40",
   "metadata": {},
   "source": [
    "## Tuning des hypèrparamètre :"
   ]
  },
  {
   "cell_type": "markdown",
   "id": "da18a7c2",
   "metadata": {},
   "source": [
    "Maintenant qu'on a tatonné avec le modèle précedent, essayons de l'optimiser de telle façon qu'on maximise la précision de validation (on se concentre juste sur cette métrique)."
   ]
  },
  {
   "cell_type": "markdown",
   "id": "e104515d",
   "metadata": {},
   "source": [
    "Avant de nous plonger dans le processus de tuning, ouvrons nous sur les hypèrparamètres à ajuster : les hyperparamètres les plus connues sont le \"learning rate\" i.e le nombre d'étapes éffectués par l'optimiseur de descente de gradient, les $\\beta_1$ et $\\beta_2$ pour le momentum et velocity du gradient, le nombre de hidden layers, le nombre d'unités par layer, et puis le batch size. "
   ]
  },
  {
   "cell_type": "markdown",
   "id": "23d3c778",
   "metadata": {},
   "source": [
    "à l'aide de cross validation on peut déterminer de telles paramètres optimales: pour cette objective, il en existe deux méthodes: on crée une série de valeurs dans la plage de valeurs associé à chaque paramètres, puis on évalue la performance des modèles créés à partir de chacune de ces valeurs, dans ce stage il existe deux méthodes pour le choix de telles paramètres à chaque itération: il s'agit soit d'une $recherche aléatoire$ ou recherche par grille séquentielle ($grid search$)."
   ]
  },
  {
   "cell_type": "markdown",
   "id": "1b34a165",
   "metadata": {},
   "source": [
    "Afin de réduire un peu le cout computationelle, on ne s'intéresse qu'aux hyperparamètres les plus importantes: le learning rate, le nombre de layers, puis le nombre d'unités dans chaque layer créée."
   ]
  },
  {
   "cell_type": "code",
   "execution_count": 120,
   "id": "425c67ae",
   "metadata": {
    "scrolled": true
   },
   "outputs": [],
   "source": [
    "import tensorflow as tf\n",
    "from tensorflow import keras\n",
    "from kerastuner import HyperParameters\n",
    "from tensorflow.keras.metrics import BinaryAccuracy\n",
    "from tensorflow.keras.losses import BinaryCrossentropy\n",
    "\n",
    "def model_builder(hp):\n",
    "    model = keras.Sequential()\n",
    "    model.add(keras.layers.Input(shape=(x.shape[1],)))\n",
    "\n",
    "    # Tuning the number of layers (from 1 to 5 layers)\n",
    "    hp_layers = hp.Int(\"num_layers\", min_value=1, max_value=5, step=1)\n",
    "    for i in range(hp_layers):\n",
    "        # Tuning the units per layer (8 to 64)\n",
    "        hp_units = hp.Int(f\"units_{i}\", min_value=8, max_value=64, step=4)\n",
    "        model.add(keras.layers.Dense(units=hp_units, activation=\"relu\"))\n",
    "\n",
    "    # Add output layer for binary classification\n",
    "    model.add(keras.layers.Dense(1, activation=\"sigmoid\"))  # Sigmoid for binary classification\n",
    "\n",
    "    # Tuning the learning rate for the optimizer\n",
    "    hp_learning_rate = hp.Choice(\"learning_rate\", values=[1e-2, 1e-3, 1e-4])\n",
    "\n",
    "    model.compile(optimizer=keras.optimizers.Adam(learning_rate=hp_learning_rate),\n",
    "                  loss=BinaryCrossentropy(),\n",
    "                  metrics=[BinaryAccuracy(threshold=0.5)])  # Using BinaryAccuracy for binary classification\n",
    "\n",
    "    return model\n"
   ]
  },
  {
   "cell_type": "code",
   "execution_count": 121,
   "id": "3b5e8158",
   "metadata": {},
   "outputs": [
    {
     "name": "stdout",
     "output_type": "stream",
     "text": [
      "Reloading Tuner from my_dir\\tuuner\\tuner0.json\n"
     ]
    }
   ],
   "source": [
    "from kerastuner.tuners import Hyperband\n",
    "import kerastuner as kt\n",
    "from kerastuner import HyperParameters\n",
    "tuner= kt.Hyperband(model_builder,\n",
    "                   objective= \"val_accuracy\",\n",
    "                   max_epochs=10,\n",
    "                   factor=3,\n",
    "                   directory=\"my_dir\",\n",
    "                   project_name=\"tuuner\")"
   ]
  },
  {
   "cell_type": "code",
   "execution_count": 122,
   "id": "5fc32353",
   "metadata": {},
   "outputs": [],
   "source": [
    "stop_early= tf.keras.callbacks.EarlyStopping(monitor=\"val_loss\", patience=5)"
   ]
  },
  {
   "cell_type": "code",
   "execution_count": 123,
   "id": "c49292e2",
   "metadata": {},
   "outputs": [],
   "source": [
    "tuner.search(x_train, y_train, epochs=100, validation_split=0.2, callbacks=[stop_early])"
   ]
  },
  {
   "cell_type": "code",
   "execution_count": 124,
   "id": "1f749f33",
   "metadata": {},
   "outputs": [
    {
     "name": "stdout",
     "output_type": "stream",
     "text": [
      "Model: \"sequential_13\"\n",
      "_________________________________________________________________\n",
      " Layer (type)                Output Shape              Param #   \n",
      "=================================================================\n",
      " dense_63 (Dense)            (None, 52)                624       \n",
      "                                                                 \n",
      " dense_64 (Dense)            (None, 32)                1696      \n",
      "                                                                 \n",
      " dense_65 (Dense)            (None, 52)                1716      \n",
      "                                                                 \n",
      " dense_66 (Dense)            (None, 24)                1272      \n",
      "                                                                 \n",
      " dense_67 (Dense)            (None, 8)                 200       \n",
      "                                                                 \n",
      " dense_68 (Dense)            (None, 1)                 9         \n",
      "                                                                 \n",
      "=================================================================\n",
      "Total params: 5517 (21.55 KB)\n",
      "Trainable params: 5517 (21.55 KB)\n",
      "Non-trainable params: 0 (0.00 Byte)\n",
      "_________________________________________________________________\n"
     ]
    }
   ],
   "source": [
    "best_hps=tuner.get_best_hyperparameters(num_trials=1)[0]\n",
    "our_model= tuner.hypermodel.build(best_hps)\n",
    "our_model.summary()"
   ]
  },
  {
   "cell_type": "code",
   "execution_count": 125,
   "id": "eea1545d",
   "metadata": {},
   "outputs": [],
   "source": [
    "history= our_model.fit(x_train, y_train, epochs=400, validation_split=0.2, verbose=0)"
   ]
  },
  {
   "cell_type": "code",
   "execution_count": 126,
   "id": "1fe3bebb",
   "metadata": {},
   "outputs": [
    {
     "name": "stdout",
     "output_type": "stream",
     "text": [
      "meilleur epoch : 345\n"
     ]
    }
   ],
   "source": [
    "#on choisit le nb d'epochs maximisant l'accuracy de validation\n",
    "prec_par_epoch = history.history['val_binary_accuracy']\n",
    "epoch_opt = prec_par_epoch.index(max(prec_par_epoch)) \n",
    "print(\"meilleur epoch :\", epoch_opt)"
   ]
  },
  {
   "cell_type": "code",
   "execution_count": 127,
   "id": "ae4a55bf",
   "metadata": {},
   "outputs": [
    {
     "data": {
      "text/plain": [
       "<keras.src.callbacks.History at 0x236d47c13a0>"
      ]
     },
     "execution_count": 127,
     "metadata": {},
     "output_type": "execute_result"
    }
   ],
   "source": [
    "model_best = tuner.hypermodel.build(best_hps)\n",
    "model_best.fit(x_train, y_train, epochs=epoch_opt, validation_split=0.2,verbose=0)"
   ]
  },
  {
   "cell_type": "code",
   "execution_count": 133,
   "id": "146868ce",
   "metadata": {},
   "outputs": [
    {
     "name": "stdout",
     "output_type": "stream",
     "text": [
      "Test accuracy : 0.8695651888847351\n"
     ]
    }
   ],
   "source": [
    "score = model_best.evaluate(x_test, y_test, verbose=0)\n",
    "print('Test accuracy :', score[1])"
   ]
  },
  {
   "cell_type": "markdown",
   "id": "0dd75489",
   "metadata": {},
   "source": [
    "On a obtenu une précision de modèle 87 $\\%$, supérieur au précedent."
   ]
  },
  {
   "cell_type": "markdown",
   "id": "df7fa098",
   "metadata": {},
   "source": [
    "Mesurons maintenant les autres métriques de notre modèle optimale sur les données test."
   ]
  },
  {
   "cell_type": "code",
   "execution_count": 130,
   "id": "fb15ed8a",
   "metadata": {},
   "outputs": [
    {
     "name": "stdout",
     "output_type": "stream",
     "text": [
      "6/6 [==============================] - 0s 4ms/step\n"
     ]
    }
   ],
   "source": [
    "y_pred = model_best.predict(x_test)"
   ]
  },
  {
   "cell_type": "code",
   "execution_count": 134,
   "id": "8898ba67",
   "metadata": {},
   "outputs": [],
   "source": [
    "y_pred= [1 if pred[0]>0.5 else 0 for pred in y_pred]"
   ]
  },
  {
   "cell_type": "code",
   "execution_count": 135,
   "id": "703e82f9",
   "metadata": {
    "scrolled": true
   },
   "outputs": [
    {
     "data": {
      "text/plain": [
       "[1,\n",
       " 1,\n",
       " 1,\n",
       " 1,\n",
       " 1,\n",
       " 0,\n",
       " 0,\n",
       " 1,\n",
       " 0,\n",
       " 0,\n",
       " 0,\n",
       " 0,\n",
       " 0,\n",
       " 1,\n",
       " 1,\n",
       " 0,\n",
       " 1,\n",
       " 0,\n",
       " 1,\n",
       " 1,\n",
       " 1,\n",
       " 0,\n",
       " 1,\n",
       " 0,\n",
       " 1,\n",
       " 1,\n",
       " 0,\n",
       " 0,\n",
       " 1,\n",
       " 0,\n",
       " 0,\n",
       " 0,\n",
       " 0,\n",
       " 0,\n",
       " 1,\n",
       " 1,\n",
       " 1,\n",
       " 1,\n",
       " 0,\n",
       " 0,\n",
       " 1,\n",
       " 1,\n",
       " 1,\n",
       " 0,\n",
       " 0,\n",
       " 0,\n",
       " 1,\n",
       " 0,\n",
       " 0,\n",
       " 1,\n",
       " 0,\n",
       " 1,\n",
       " 1,\n",
       " 0,\n",
       " 1,\n",
       " 0,\n",
       " 1,\n",
       " 0,\n",
       " 1,\n",
       " 0,\n",
       " 1,\n",
       " 1,\n",
       " 1,\n",
       " 0,\n",
       " 0,\n",
       " 1,\n",
       " 1,\n",
       " 1,\n",
       " 0,\n",
       " 1,\n",
       " 1,\n",
       " 0,\n",
       " 1,\n",
       " 1,\n",
       " 0,\n",
       " 1,\n",
       " 0,\n",
       " 1,\n",
       " 1,\n",
       " 0,\n",
       " 1,\n",
       " 1,\n",
       " 1,\n",
       " 1,\n",
       " 1,\n",
       " 1,\n",
       " 0,\n",
       " 0,\n",
       " 0,\n",
       " 0,\n",
       " 1,\n",
       " 1,\n",
       " 0,\n",
       " 1,\n",
       " 1,\n",
       " 1,\n",
       " 1,\n",
       " 1,\n",
       " 1,\n",
       " 0,\n",
       " 0,\n",
       " 0,\n",
       " 1,\n",
       " 1,\n",
       " 1,\n",
       " 0,\n",
       " 0,\n",
       " 1,\n",
       " 1,\n",
       " 0,\n",
       " 0,\n",
       " 1,\n",
       " 0,\n",
       " 0,\n",
       " 0,\n",
       " 0,\n",
       " 1,\n",
       " 0,\n",
       " 0,\n",
       " 1,\n",
       " 1,\n",
       " 1,\n",
       " 1,\n",
       " 0,\n",
       " 1,\n",
       " 0,\n",
       " 1,\n",
       " 0,\n",
       " 1,\n",
       " 1,\n",
       " 0,\n",
       " 1,\n",
       " 0,\n",
       " 1,\n",
       " 1,\n",
       " 1,\n",
       " 1,\n",
       " 1,\n",
       " 0,\n",
       " 1,\n",
       " 1,\n",
       " 0,\n",
       " 0,\n",
       " 1,\n",
       " 1,\n",
       " 1,\n",
       " 1,\n",
       " 1,\n",
       " 0,\n",
       " 1,\n",
       " 1,\n",
       " 0,\n",
       " 0,\n",
       " 0,\n",
       " 0,\n",
       " 1,\n",
       " 0,\n",
       " 1,\n",
       " 1,\n",
       " 1,\n",
       " 1,\n",
       " 1,\n",
       " 1,\n",
       " 1,\n",
       " 1,\n",
       " 1,\n",
       " 0,\n",
       " 1,\n",
       " 1,\n",
       " 1,\n",
       " 0,\n",
       " 1,\n",
       " 1,\n",
       " 1,\n",
       " 1,\n",
       " 1,\n",
       " 0,\n",
       " 0,\n",
       " 1,\n",
       " 0,\n",
       " 0,\n",
       " 0,\n",
       " 0,\n",
       " 0]"
      ]
     },
     "execution_count": 135,
     "metadata": {},
     "output_type": "execute_result"
    }
   ],
   "source": [
    "y_pred"
   ]
  },
  {
   "cell_type": "code",
   "execution_count": 139,
   "id": "ae2bb3ce",
   "metadata": {},
   "outputs": [
    {
     "name": "stdout",
     "output_type": "stream",
     "text": [
      "Precision: 0.9056603773584906\n"
     ]
    }
   ],
   "source": [
    "from sklearn.metrics import precision_score\n",
    "\n",
    "precision = precision_score(y_test, y_pred)\n",
    "print(\"Precision:\", precision)"
   ]
  },
  {
   "cell_type": "code",
   "execution_count": 145,
   "id": "12d1ad36",
   "metadata": {},
   "outputs": [
    {
     "data": {
      "image/png": "[encoded data removed]",
      "text/plain": [
       "<Figure size 800x600 with 2 Axes>"
      ]
     },
     "metadata": {},
     "output_type": "display_data"
    }
   ],
   "source": [
    "from sklearn.metrics import confusion_matrix\n",
    "import seaborn as sns\n",
    "import matplotlib.pyplot as plt\n",
    "\n",
    "cm = confusion_matrix(y_test, y_pred)\n",
    "plt.figure(figsize=(8, 6))\n",
    "sns.heatmap(cm, annot=True, fmt=\"d\")\n",
    "plt.xlabel('Predicted')\n",
    "plt.ylabel('Actual')\n",
    "plt.title('Confusion Matrix')\n",
    "plt.show()\n"
   ]
  },
  {
   "cell_type": "code",
   "execution_count": 146,
   "id": "fb868e09",
   "metadata": {},
   "outputs": [
    {
     "data": {
      "image/png": "[encoded data removed]",
      "text/plain": [
       "<Figure size 800x600 with 1 Axes>"
      ]
     },
     "metadata": {},
     "output_type": "display_data"
    }
   ],
   "source": [
    "from sklearn.metrics import roc_curve, auc\n",
    "fpr, tpr, thresholds = roc_curve(y_test, y_pred)\n",
    "roc_auc = auc(fpr, tpr)\n",
    "plt.figure(figsize=(8, 6))\n",
    "plt.plot(fpr, tpr, color='blue', lw=2, label='ROC curve (area = %0.2f)' % roc_auc)\n",
    "plt.plot([0, 1], [0, 1], color='red', lw=2, linestyle='--')\n",
    "plt.xlabel('False Positive Rate')\n",
    "plt.ylabel('True Positive Rate')\n",
    "plt.title('Receiver Operating Characteristic (ROC) Curve')\n",
    "plt.legend(loc=\"lower right\")\n",
    "plt.grid()\n",
    "plt.show()"
   ]
  },
  {
   "cell_type": "code",
   "execution_count": 147,
   "id": "85b06adb",
   "metadata": {},
   "outputs": [
    {
     "name": "stdout",
     "output_type": "stream",
     "text": [
      "AUC: 0.8687960687960689\n"
     ]
    }
   ],
   "source": [
    "print(\"AUC:\", roc_auc)"
   ]
  },
  {
   "cell_type": "code",
   "execution_count": 148,
   "id": "d2aacb44",
   "metadata": {},
   "outputs": [
    {
     "name": "stdout",
     "output_type": "stream",
     "text": [
      "Sensitivity: 0.8727272727272727\n",
      "Specificity: 0.8648648648648649\n"
     ]
    }
   ],
   "source": [
    "tn, fp, fn, tp = cm.ravel()\n",
    "sensitivity = tp / (tp + fn)\n",
    "specificity = tn / (tn + fp)\n",
    "\n",
    "print(\"Sensitivity:\", sensitivity)\n",
    "print(\"Specificity:\", specificity)"
   ]
  },
  {
   "cell_type": "markdown",
   "id": "6d09ea4a",
   "metadata": {},
   "source": [
    "Notre modèle a achevé une précision de 90% sur les données test, couplée d'une bonne sensitivité et une bonne sensibilité qui sont approximativement de 87$\\%$ les deux. Notre modèle a géneralement eu une performance parfaite sur nos données test."
   ]
  },
  {
   "cell_type": "markdown",
   "id": "d48e8dc9",
   "metadata": {},
   "source": [
    "On essaie de vérifier si ce modèle est géneralisable à notre base de données par 10 fold cross validaiton."
   ]
  },
  {
   "cell_type": "code",
   "execution_count": 149,
   "id": "4498ff94",
   "metadata": {
    "scrolled": true
   },
   "outputs": [
    {
     "name": "stdout",
     "output_type": "stream",
     "text": [
      "3/3 [==============================] - 0s 8ms/step\n",
      "3/3 [==============================] - 0s 4ms/step\n",
      "3/3 [==============================] - 0s 5ms/step\n",
      "3/3 [==============================] - 0s 4ms/step\n",
      "3/3 [==============================] - 0s 10ms/step\n",
      "3/3 [==============================] - 0s 6ms/step\n",
      "3/3 [==============================] - 0s 5ms/step\n",
      "3/3 [==============================] - 0s 3ms/step\n",
      "3/3 [==============================] - 0s 4ms/step\n",
      "3/3 [==============================] - 0s 3ms/step\n",
      "Average Accuracy: 0.8746416626851408\n",
      "Average AUC: 0.9385451936872309\n",
      "Average Sensitivity: 0.9115294117647057\n",
      "Average Specificity: 0.8292682926829269\n"
     ]
    }
   ],
   "source": [
    "import numpy as np\n",
    "from sklearn.model_selection import StratifiedKFold\n",
    "from sklearn.metrics import accuracy_score, roc_auc_score, confusion_matrix\n",
    "num_folds = 10\n",
    "\n",
    "accuracies = []\n",
    "auc_scores = []\n",
    "sensitivities = []\n",
    "specificities = []\n",
    "\n",
    "skf = StratifiedKFold(n_splits=num_folds, shuffle=True)\n",
    "\n",
    "for train_index, test_index in skf.split(x, y):  \n",
    "    x_train, x_test = x[train_index], x[test_index]\n",
    "    y_train, y_test = y[train_index], y[test_index]\n",
    "    model_best.fit(x_train, y_train, epochs=epoch_opt, validation_split=0.2, verbose=0)\n",
    "    y_pred = model_best.predict(x_test)\n",
    "    acc = accuracy_score(y_test, y_pred.round())\n",
    "    auc = roc_auc_score(y_test, y_pred)\n",
    "    \n",
    "    cm = confusion_matrix(y_test, y_pred.round())\n",
    "    tn, fp, fn, tp = cm.ravel()\n",
    "    sensitivity = tp / (tp + fn)\n",
    "    specificity = tn / (tn + fp)\n",
    "\n",
    "    accuracies.append(acc)\n",
    "    auc_scores.append(auc)\n",
    "    sensitivities.append(sensitivity)\n",
    "    specificities.append(specificity)\n",
    "\n",
    "avg_accuracy = np.mean(accuracies)\n",
    "avg_auc = np.mean(auc_scores)\n",
    "avg_sensitivity = np.mean(sensitivities)\n",
    "avg_specificity = np.mean(specificities)\n",
    "print(\"Average Accuracy:\", avg_accuracy)\n",
    "print(\"Average AUC:\", avg_auc)\n",
    "print(\"Average Sensitivity:\", avg_sensitivity)\n",
    "print(\"Average Specificity:\", avg_specificity)"
   ]
  },
  {
   "cell_type": "markdown",
   "id": "30fd78e1",
   "metadata": {},
   "source": [
    "## Logistic regression"
   ]
  },
  {
   "cell_type": "code",
   "execution_count": 414,
   "id": "8507d03f",
   "metadata": {},
   "outputs": [
    {
     "name": "stderr",
     "output_type": "stream",
     "text": [
      "C:\\Users\\OH\\anaconda3\\lib\\site-packages\\sklearn\\linear_model\\_logistic.py:460: ConvergenceWarning: lbfgs failed to converge (status=1):\n",
      "STOP: TOTAL NO. of ITERATIONS REACHED LIMIT.\n",
      "\n",
      "Increase the number of iterations (max_iter) or scale the data as shown in:\n",
      "    https://scikit-learn.org/stable/modules/preprocessing.html\n",
      "Please also refer to the documentation for alternative solver options:\n",
      "    https://scikit-learn.org/stable/modules/linear_model.html#logistic-regression\n",
      "  n_iter_i = _check_optimize_result(\n"
     ]
    },
    {
     "data": {
      "text/html": [
       "<style>#sk-container-id-1 {color: black;}#sk-container-id-1 pre{padding: 0;}#sk-container-id-1 div.sk-toggleable {background-color: white;}#sk-container-id-1 label.sk-toggleable__label {cursor: pointer;display: block;width: 100%;margin-bottom: 0;padding: 0.3em;box-sizing: border-box;text-align: center;}#sk-container-id-1 label.sk-toggleable__label-arrow:before {content: \"▸\";float: left;margin-right: 0.25em;color: #696969;}#sk-container-id-1 label.sk-toggleable__label-arrow:hover:before {color: black;}#sk-container-id-1 div.sk-estimator:hover label.sk-toggleable__label-arrow:before {color: black;}#sk-container-id-1 div.sk-toggleable__content {max-height: 0;max-width: 0;overflow: hidden;text-align: left;background-color: #f0f8ff;}#sk-container-id-1 div.sk-toggleable__content pre {margin: 0.2em;color: black;border-radius: 0.25em;background-color: #f0f8ff;}#sk-container-id-1 input.sk-toggleable__control:checked~div.sk-toggleable__content {max-height: 200px;max-width: 100%;overflow: auto;}#sk-container-id-1 input.sk-toggleable__control:checked~label.sk-toggleable__label-arrow:before {content: \"▾\";}#sk-container-id-1 div.sk-estimator input.sk-toggleable__control:checked~label.sk-toggleable__label {background-color: #d4ebff;}#sk-container-id-1 div.sk-label input.sk-toggleable__control:checked~label.sk-toggleable__label {background-color: #d4ebff;}#sk-container-id-1 input.sk-hidden--visually {border: 0;clip: rect(1px 1px 1px 1px);clip: rect(1px, 1px, 1px, 1px);height: 1px;margin: -1px;overflow: hidden;padding: 0;position: absolute;width: 1px;}#sk-container-id-1 div.sk-estimator {font-family: monospace;background-color: #f0f8ff;border: 1px dotted black;border-radius: 0.25em;box-sizing: border-box;margin-bottom: 0.5em;}#sk-container-id-1 div.sk-estimator:hover {background-color: #d4ebff;}#sk-container-id-1 div.sk-parallel-item::after {content: \"\";width: 100%;border-bottom: 1px solid gray;flex-grow: 1;}#sk-container-id-1 div.sk-label:hover label.sk-toggleable__label {background-color: #d4ebff;}#sk-container-id-1 div.sk-serial::before {content: \"\";position: absolute;border-left: 1px solid gray;box-sizing: border-box;top: 0;bottom: 0;left: 50%;z-index: 0;}#sk-container-id-1 div.sk-serial {display: flex;flex-direction: column;align-items: center;background-color: white;padding-right: 0.2em;padding-left: 0.2em;position: relative;}#sk-container-id-1 div.sk-item {position: relative;z-index: 1;}#sk-container-id-1 div.sk-parallel {display: flex;align-items: stretch;justify-content: center;background-color: white;position: relative;}#sk-container-id-1 div.sk-item::before, #sk-container-id-1 div.sk-parallel-item::before {content: \"\";position: absolute;border-left: 1px solid gray;box-sizing: border-box;top: 0;bottom: 0;left: 50%;z-index: -1;}#sk-container-id-1 div.sk-parallel-item {display: flex;flex-direction: column;z-index: 1;position: relative;background-color: white;}#sk-container-id-1 div.sk-parallel-item:first-child::after {align-self: flex-end;width: 50%;}#sk-container-id-1 div.sk-parallel-item:last-child::after {align-self: flex-start;width: 50%;}#sk-container-id-1 div.sk-parallel-item:only-child::after {width: 0;}#sk-container-id-1 div.sk-dashed-wrapped {border: 1px dashed gray;margin: 0 0.4em 0.5em 0.4em;box-sizing: border-box;padding-bottom: 0.4em;background-color: white;}#sk-container-id-1 div.sk-label label {font-family: monospace;font-weight: bold;display: inline-block;line-height: 1.2em;}#sk-container-id-1 div.sk-label-container {text-align: center;}#sk-container-id-1 div.sk-container {/* jupyter's `normalize.less` sets `[hidden] { display: none; }` but bootstrap.min.css set `[hidden] { display: none !important; }` so we also need the `!important` here to be able to override the default hidden behavior on the sphinx rendered scikit-learn.org. See: https://github.com/scikit-learn/scikit-learn/issues/21755 */display: inline-block !important;position: relative;}#sk-container-id-1 div.sk-text-repr-fallback {display: none;}</style><div id=\"sk-container-id-1\" class=\"sk-top-container\"><div class=\"sk-text-repr-fallback\"><pre>LogisticRegression()</pre><b>In a Jupyter environment, please rerun this cell to show the HTML representation or trust the notebook. <br />On GitHub, the HTML representation is unable to render, please try loading this page with nbviewer.org.</b></div><div class=\"sk-container\" hidden><div class=\"sk-item\"><div class=\"sk-estimator sk-toggleable\"><input class=\"sk-toggleable__control sk-hidden--visually\" id=\"sk-estimator-id-1\" type=\"checkbox\" checked><label for=\"sk-estimator-id-1\" class=\"sk-toggleable__label sk-toggleable__label-arrow\">LogisticRegression</label><div class=\"sk-toggleable__content\"><pre>LogisticRegression()</pre></div></div></div></div></div>"
      ],
      "text/plain": [
       "LogisticRegression()"
      ]
     },
     "execution_count": 414,
     "metadata": {},
     "output_type": "execute_result"
    }
   ],
   "source": [
    "from sklearn.linear_model import LogisticRegression\n",
    "from sklearn.metrics import confusion_matrix, precision_score, recall_score, accuracy_score\n",
    "\n",
    "model = LogisticRegression()\n",
    "\n",
    "model.fit(x_train, y_train)\n"
   ]
  },
  {
   "cell_type": "code",
   "execution_count": 416,
   "id": "bf16624e",
   "metadata": {},
   "outputs": [
    {
     "name": "stdout",
     "output_type": "stream",
     "text": [
      "Matrice de confusion :\n",
      "[[65  9]\n",
      " [11 99]]\n",
      "Précision : 0.9166666666666666\n",
      "Sensibilité (recall) : 0.9\n",
      "Spécificité : 0.8783783783783784\n",
      "Exactitude (accuracy) : 0.8913043478260869\n",
      "AUC Score: 0.9415233415233415\n"
     ]
    }
   ],
   "source": [
    "# Prédiction sur les données de test\n",
    "y_pred = model.predict(x_test)\n",
    "\n",
    "# Calcul de la matrice de confusion\n",
    "conf_matrix = confusion_matrix(y_test, y_pred)\n",
    "print(\"Matrice de confusion :\")\n",
    "print(conf_matrix)\n",
    "\n",
    "# Calcul de la précision du modèle\n",
    "precision = precision_score(y_test, y_pred)\n",
    "print(\"Précision :\", precision)\n",
    "\n",
    "# Calcul de la sensibilité (recall) du modèle\n",
    "recall = recall_score(y_test, y_pred)\n",
    "print(\"Sensibilité (recall) :\", recall)\n",
    "\n",
    "# Calcul de la spécificité du modèle\n",
    "specificity = conf_matrix[0, 0] / (conf_matrix[0, 0] + conf_matrix[0, 1])\n",
    "print(\"Spécificité :\", specificity)\n",
    "\n",
    "# Calcul de l'exactitude (accuracy) du modèle\n",
    "accuracy = accuracy_score(y_test, y_pred)\n",
    "print(\"Exactitude (accuracy) :\", accuracy)\n",
    "\n",
    "from sklearn.metrics import roc_auc_score\n",
    "\n",
    "# Calculating the predicted probabilities for positive class\n",
    "y_pred_proba = model.predict_proba(x_test)[:, 1]\n",
    "\n",
    "# Calculating the AUC score\n",
    "auc = roc_auc_score(y_test, y_pred_proba)\n",
    "print(\"AUC Score:\", auc)"
   ]
  },
  {
   "cell_type": "markdown",
   "id": "c173d15b",
   "metadata": {},
   "source": [
    "Etonnement! le modèle de regression est plus performant que les modèles construits précedement."
   ]
  },
  {
   "cell_type": "markdown",
   "id": "de813eac",
   "metadata": {},
   "source": [
    "# Problème V : Analyse d’une série temporelle"
   ]
  },
  {
   "cell_type": "markdown",
   "id": "ec1f6fce",
   "metadata": {},
   "source": [
    "Dans la suite on se base sur le modèle LSTM (long terme memory) qui opère d'une manière récurrente sur la base de donnée temporelle pour prédire le future."
   ]
  },
  {
   "cell_type": "code",
   "execution_count": 328,
   "id": "6cfef03e",
   "metadata": {},
   "outputs": [
    {
     "data": {
      "text/html": [
       "<div>\n",
       "<style scoped>\n",
       "    .dataframe tbody tr th:only-of-type {\n",
       "        vertical-align: middle;\n",
       "    }\n",
       "\n",
       "    .dataframe tbody tr th {\n",
       "        vertical-align: top;\n",
       "    }\n",
       "\n",
       "    .dataframe thead th {\n",
       "        text-align: right;\n",
       "    }\n",
       "</style>\n",
       "<table border=\"1\" class=\"dataframe\">\n",
       "  <thead>\n",
       "    <tr style=\"text-align: right;\">\n",
       "      <th></th>\n",
       "      <th>Months</th>\n",
       "      <th>Ammonium</th>\n",
       "    </tr>\n",
       "  </thead>\n",
       "  <tbody>\n",
       "    <tr>\n",
       "      <th>0</th>\n",
       "      <td>1996-01-01</td>\n",
       "      <td>0.253333</td>\n",
       "    </tr>\n",
       "    <tr>\n",
       "      <th>1</th>\n",
       "      <td>1996-02-01</td>\n",
       "      <td>0.218889</td>\n",
       "    </tr>\n",
       "    <tr>\n",
       "      <th>2</th>\n",
       "      <td>1996-03-01</td>\n",
       "      <td>0.242000</td>\n",
       "    </tr>\n",
       "    <tr>\n",
       "      <th>3</th>\n",
       "      <td>1996-04-01</td>\n",
       "      <td>0.134545</td>\n",
       "    </tr>\n",
       "    <tr>\n",
       "      <th>4</th>\n",
       "      <td>1996-05-01</td>\n",
       "      <td>0.113333</td>\n",
       "    </tr>\n",
       "    <tr>\n",
       "      <th>...</th>\n",
       "      <td>...</td>\n",
       "      <td>...</td>\n",
       "    </tr>\n",
       "    <tr>\n",
       "      <th>259</th>\n",
       "      <td>2017-08-01</td>\n",
       "      <td>0.031222</td>\n",
       "    </tr>\n",
       "    <tr>\n",
       "      <th>260</th>\n",
       "      <td>2017-09-01</td>\n",
       "      <td>0.045875</td>\n",
       "    </tr>\n",
       "    <tr>\n",
       "      <th>261</th>\n",
       "      <td>2017-10-01</td>\n",
       "      <td>0.032474</td>\n",
       "    </tr>\n",
       "    <tr>\n",
       "      <th>262</th>\n",
       "      <td>2017-11-01</td>\n",
       "      <td>0.047125</td>\n",
       "    </tr>\n",
       "    <tr>\n",
       "      <th>263</th>\n",
       "      <td>2017-12-01</td>\n",
       "      <td>0.056563</td>\n",
       "    </tr>\n",
       "  </tbody>\n",
       "</table>\n",
       "<p>264 rows × 2 columns</p>\n",
       "</div>"
      ],
      "text/plain": [
       "        Months  Ammonium\n",
       "0   1996-01-01  0.253333\n",
       "1   1996-02-01  0.218889\n",
       "2   1996-03-01  0.242000\n",
       "3   1996-04-01  0.134545\n",
       "4   1996-05-01  0.113333\n",
       "..         ...       ...\n",
       "259 2017-08-01  0.031222\n",
       "260 2017-09-01  0.045875\n",
       "261 2017-10-01  0.032474\n",
       "262 2017-11-01  0.047125\n",
       "263 2017-12-01  0.056563\n",
       "\n",
       "[264 rows x 2 columns]"
      ]
     },
     "execution_count": 328,
     "metadata": {},
     "output_type": "execute_result"
    }
   ],
   "source": [
    "#il s'agit d'une base de données mensuelle\n",
    "data = pd.read_csv('Danube ammonium level Time Series.csv', sep = ';',decimal=',')\n",
    "data[\"Months\"]=pd.to_datetime(data[\"Months\"], dayfirst = True)\n",
    "data"
   ]
  },
  {
   "cell_type": "code",
   "execution_count": 186,
   "id": "86845fa5",
   "metadata": {},
   "outputs": [
    {
     "data": {
      "text/plain": [
       "[<matplotlib.lines.Line2D at 0x236e53b8fd0>]"
      ]
     },
     "execution_count": 186,
     "metadata": {},
     "output_type": "execute_result"
    },
    {
     "data": {
      "image/png": "[encoded data removed]",
      "text/plain": [
       "<Figure size 640x480 with 1 Axes>"
      ]
     },
     "metadata": {},
     "output_type": "display_data"
    }
   ],
   "source": [
    "plt.plot(data[\"Months\"], data[\"Ammonium\"])"
   ]
  },
  {
   "cell_type": "markdown",
   "id": "16ae3eeb",
   "metadata": {},
   "source": [
    "Normalisons la colonne \"Ammonium\" pas de façon que les les données soient standardisés mais qu'il soient compris entre 0 et 1 ."
   ]
  },
  {
   "cell_type": "code",
   "execution_count": 294,
   "id": "067d100a",
   "metadata": {},
   "outputs": [],
   "source": [
    "import sklearn\n",
    "min_max_scaler = sklearn.preprocessing.MinMaxScaler()\n",
    "x= np.array(data[\"Ammonium\"]).reshape(-1, 1)\n",
    "y = np.array(x[1:][:])\n",
    "x=np.array(x[:263][:])\n",
    "x_n = min_max_scaler.fit_transform(x)"
   ]
  },
  {
   "cell_type": "markdown",
   "id": "297061e3",
   "metadata": {},
   "source": [
    "On divise nos donnée tel que x représente le taux d'amonium à l'intant t et y à l'instant t+1."
   ]
  },
  {
   "cell_type": "markdown",
   "id": "67db279a",
   "metadata": {},
   "source": [
    "Puisque LSTM prend une array tridimentionnel (batch size, sequence legth, number of features). On essaie de reshape nos données pour les accomoder à une telle structure, on procède avec une approche stochastique (batchsize=1)."
   ]
  },
  {
   "cell_type": "code",
   "execution_count": 295,
   "id": "b5d9804b",
   "metadata": {},
   "outputs": [],
   "source": [
    "x_n = np.reshape(x_n, (x_n.shape[0], 1, x_n.shape[1]))\n",
    "y = np.reshape(y, (y.shape[0], 1, y.shape[1]))"
   ]
  },
  {
   "cell_type": "markdown",
   "id": "f9209650",
   "metadata": {},
   "source": [
    "Enfin, divisons nos données en test et train, tel que x présente les données au temps t et y en t+1."
   ]
  },
  {
   "cell_type": "code",
   "execution_count": 298,
   "id": "28935e01",
   "metadata": {},
   "outputs": [],
   "source": [
    "split=data[data[\"Months\"]==\"2016-12-01\"].index[0]\n",
    "x_train, y_train= x_n[:split+1], y[:split+1]\n",
    "x_test, y_test= x_n[split+1:], y[split+1:]"
   ]
  },
  {
   "cell_type": "markdown",
   "id": "0a60eef9",
   "metadata": {},
   "source": [
    "Créons le modèle, en choisissant des paramètres de notre choix."
   ]
  },
  {
   "cell_type": "markdown",
   "id": "8b98cb17",
   "metadata": {},
   "source": [
    "Puisqu'on est interessé à l'output directment on utilisera la fonction linear dans le dernier layer, sigmoid est évitée car elle est plus adaptable à la classification binaire."
   ]
  },
  {
   "cell_type": "code",
   "execution_count": 309,
   "id": "f6407162",
   "metadata": {},
   "outputs": [
    {
     "data": {
      "text/plain": [
       "<keras.src.callbacks.History at 0x23687799e20>"
      ]
     },
     "execution_count": 309,
     "metadata": {},
     "output_type": "execute_result"
    }
   ],
   "source": [
    "import tensorflow as tf\n",
    "from tensorflow import keras\n",
    "from tensorflow.keras import Sequential\n",
    "from tensorflow.keras.layers import Flatten, Dense, Softmax\n",
    "from tensorflow.keras import optimizers\n",
    "from tensorflow.keras.layers import LSTM\n",
    "from sklearn.metrics import mean_squared_error\n",
    "model = Sequential()\n",
    "model.add(LSTM(200, activation='relu',input_shape=(x_train.shape[1],1)))\n",
    "model.add(Dense(50))\n",
    "model.add(Dense(1,activation=\"linear\"))\n",
    "model.compile(loss='mse', optimizer='Adam')\n",
    "model.fit( x_train, y_train, epochs=100, batch_size=len(train)//10, verbose=0)"
   ]
  },
  {
   "cell_type": "code",
   "execution_count": 310,
   "id": "844cf82d",
   "metadata": {},
   "outputs": [],
   "source": [
    "y_pred= model.predict(x_test, verbose=0)"
   ]
  },
  {
   "cell_type": "code",
   "execution_count": 317,
   "id": "f5b0fd45",
   "metadata": {},
   "outputs": [
    {
     "data": {
      "image/png": "[encoded data removed]",
      "text/plain": [
       "<Figure size 640x480 with 1 Axes>"
      ]
     },
     "metadata": {},
     "output_type": "display_data"
    }
   ],
   "source": [
    "s=y_test.shape[0]\n",
    "plt.plot(y_test.reshape((s,)), label=\"actual\")\n",
    "plt.plot(y_pred.reshape((s,)), label=\"predicted\")\n",
    "plt.legend()\n",
    "plt.show()"
   ]
  },
  {
   "cell_type": "code",
   "execution_count": 314,
   "id": "8ce3a1e2",
   "metadata": {},
   "outputs": [
    {
     "name": "stdout",
     "output_type": "stream",
     "text": [
      "rmse : 0.07019245974051425\n"
     ]
    }
   ],
   "source": [
    "score= model.evaluate(x_test, y_test, verbose=0)\n",
    "print(\"rmse :\", (score)**0.5)"
   ]
  },
  {
   "cell_type": "markdown",
   "id": "91137892",
   "metadata": {},
   "source": [
    "Bien que les 2 courbes ont une monotonie opposée, on a achevé une bonne prédiction de nos données test."
   ]
  },
  {
   "cell_type": "markdown",
   "id": "00746be1",
   "metadata": {},
   "source": [
    "## ARMA/ARIMA model"
   ]
  },
  {
   "cell_type": "markdown",
   "id": "dad7e35c",
   "metadata": {},
   "source": [
    "Il faut bien souligner la stationnarité d'une série pour qu'on lui applique ARIMA/ARMA càd que la moyenne et l'écart type restent constants pour chaque fenêtre prise de la série. "
   ]
  },
  {
   "cell_type": "code",
   "execution_count": 329,
   "id": "3a3a05a5",
   "metadata": {},
   "outputs": [],
   "source": [
    "#we set Months as index for adf test of stationarity\n",
    "data.set_index('Months', inplace=True)"
   ]
  },
  {
   "cell_type": "code",
   "execution_count": 330,
   "id": "c8096814",
   "metadata": {},
   "outputs": [
    {
     "data": {
      "text/html": [
       "<div>\n",
       "<style scoped>\n",
       "    .dataframe tbody tr th:only-of-type {\n",
       "        vertical-align: middle;\n",
       "    }\n",
       "\n",
       "    .dataframe tbody tr th {\n",
       "        vertical-align: top;\n",
       "    }\n",
       "\n",
       "    .dataframe thead th {\n",
       "        text-align: right;\n",
       "    }\n",
       "</style>\n",
       "<table border=\"1\" class=\"dataframe\">\n",
       "  <thead>\n",
       "    <tr style=\"text-align: right;\">\n",
       "      <th></th>\n",
       "      <th>Ammonium</th>\n",
       "    </tr>\n",
       "    <tr>\n",
       "      <th>Months</th>\n",
       "      <th></th>\n",
       "    </tr>\n",
       "  </thead>\n",
       "  <tbody>\n",
       "    <tr>\n",
       "      <th>1996-01-01</th>\n",
       "      <td>0.253333</td>\n",
       "    </tr>\n",
       "    <tr>\n",
       "      <th>1996-02-01</th>\n",
       "      <td>0.218889</td>\n",
       "    </tr>\n",
       "    <tr>\n",
       "      <th>1996-03-01</th>\n",
       "      <td>0.242000</td>\n",
       "    </tr>\n",
       "    <tr>\n",
       "      <th>1996-04-01</th>\n",
       "      <td>0.134545</td>\n",
       "    </tr>\n",
       "    <tr>\n",
       "      <th>1996-05-01</th>\n",
       "      <td>0.113333</td>\n",
       "    </tr>\n",
       "  </tbody>\n",
       "</table>\n",
       "</div>"
      ],
      "text/plain": [
       "            Ammonium\n",
       "Months              \n",
       "1996-01-01  0.253333\n",
       "1996-02-01  0.218889\n",
       "1996-03-01  0.242000\n",
       "1996-04-01  0.134545\n",
       "1996-05-01  0.113333"
      ]
     },
     "execution_count": 330,
     "metadata": {},
     "output_type": "execute_result"
    }
   ],
   "source": [
    "data.head()"
   ]
  },
  {
   "cell_type": "code",
   "execution_count": 331,
   "id": "4a910ae5",
   "metadata": {
    "scrolled": true
   },
   "outputs": [
    {
     "name": "stdout",
     "output_type": "stream",
     "text": [
      "Statistique ADF : -1.9198289225041667\n",
      "Valeur critique : {'1%': -3.4568881317725864, '5%': -2.8732185133016057, '10%': -2.5729936189738876}\n",
      "P-value : 0.3227912219065292\n"
     ]
    }
   ],
   "source": [
    "from statsmodels.tsa.stattools import adfuller\n",
    "result = adfuller(data)\n",
    "print('Statistique ADF :', result[0])\n",
    "print('Valeur critique :', result[4])\n",
    "print('P-value :', result[1])"
   ]
  },
  {
   "cell_type": "code",
   "execution_count": 333,
   "id": "913f3d3a",
   "metadata": {},
   "outputs": [
    {
     "name": "stdout",
     "output_type": "stream",
     "text": [
      "La série n'est pas stationnaire (ne pas rejeter l'hypothèse nulle)\n"
     ]
    }
   ],
   "source": [
    "if result[1] < 0.05: #on prend l'erreur standard pour la p-valeur (5%)\n",
    "    print(\"La série est stationnaire (rejeter l'hypothèse nulle)\")\n",
    "else:\n",
    "    print(\"La série n'est pas stationnaire (ne pas rejeter l'hypothèse nulle)\")"
   ]
  },
  {
   "cell_type": "markdown",
   "id": "c94a92a6",
   "metadata": {},
   "source": [
    "On essaie de la differencier y_t= x_t - x_t-1, puis on mesure si elle est stationnaire."
   ]
  },
  {
   "cell_type": "code",
   "execution_count": 334,
   "id": "bf3417ba",
   "metadata": {},
   "outputs": [],
   "source": [
    "data_diff= data.diff().dropna()"
   ]
  },
  {
   "cell_type": "code",
   "execution_count": 335,
   "id": "703d21da",
   "metadata": {},
   "outputs": [
    {
     "data": {
      "text/plain": [
       "1.7660848633660758e-13"
      ]
     },
     "execution_count": 335,
     "metadata": {},
     "output_type": "execute_result"
    }
   ],
   "source": [
    "adfuller(data_diff)[1]"
   ]
  },
  {
   "cell_type": "markdown",
   "id": "684b2014",
   "metadata": {},
   "source": [
    "La série differenciée est bien stationnaire, essayons de la visualiser."
   ]
  },
  {
   "cell_type": "code",
   "execution_count": 336,
   "id": "78b6cd79",
   "metadata": {},
   "outputs": [
    {
     "data": {
      "text/plain": [
       "[<matplotlib.lines.Line2D at 0x2368aad13d0>]"
      ]
     },
     "execution_count": 336,
     "metadata": {},
     "output_type": "execute_result"
    },
    {
     "data": {
      "image/png": "[encoded data removed]",
      "text/plain": [
       "<Figure size 640x480 with 1 Axes>"
      ]
     },
     "metadata": {},
     "output_type": "display_data"
    }
   ],
   "source": [
    "plt.plot(data_diff)"
   ]
  },
  {
   "cell_type": "markdown",
   "id": "4c1fb800",
   "metadata": {},
   "source": [
    "On essaie d'ajuster un modèle ARIMA sur la série differenciée."
   ]
  },
  {
   "cell_type": "code",
   "execution_count": 352,
   "id": "f15c1f7e",
   "metadata": {},
   "outputs": [],
   "source": [
    "from pmdarima import auto_arima\n",
    "from statsmodels.tsa.arima.model import ARIMA \n",
    "train = data_diff.iloc[:split+1]\n",
    "test = data_diff.iloc[split+1:]\n",
    "model_arima = auto_arima(\n",
    "    data_diff['Ammonium'],  \n",
    "    suppress_warnings=True,          #suppress warnings generated \n",
    "    stationary=True,                  #treat time series as stationary\n",
    ")"
   ]
  },
  {
   "cell_type": "code",
   "execution_count": 348,
   "id": "acc299d6",
   "metadata": {},
   "outputs": [
    {
     "data": {
      "text/html": [
       "<table class=\"simpletable\">\n",
       "<caption>SARIMAX Results</caption>\n",
       "<tr>\n",
       "  <th>Dep. Variable:</th>           <td>y</td>        <th>  No. Observations:  </th>    <td>263</td>   \n",
       "</tr>\n",
       "<tr>\n",
       "  <th>Model:</th>           <td>SARIMAX(4, 0, 3)</td> <th>  Log Likelihood     </th>  <td>542.702</td> \n",
       "</tr>\n",
       "<tr>\n",
       "  <th>Date:</th>            <td>Thu, 30 Nov 2023</td> <th>  AIC                </th> <td>-1069.405</td>\n",
       "</tr>\n",
       "<tr>\n",
       "  <th>Time:</th>                <td>20:19:24</td>     <th>  BIC                </th> <td>-1040.828</td>\n",
       "</tr>\n",
       "<tr>\n",
       "  <th>Sample:</th>             <td>02-01-1996</td>    <th>  HQIC               </th> <td>-1057.920</td>\n",
       "</tr>\n",
       "<tr>\n",
       "  <th></th>                   <td>- 12-01-2017</td>   <th>                     </th>     <td> </td>    \n",
       "</tr>\n",
       "<tr>\n",
       "  <th>Covariance Type:</th>        <td>opg</td>       <th>                     </th>     <td> </td>    \n",
       "</tr>\n",
       "</table>\n",
       "<table class=\"simpletable\">\n",
       "<tr>\n",
       "     <td></td>       <th>coef</th>     <th>std err</th>      <th>z</th>      <th>P>|z|</th>  <th>[0.025</th>    <th>0.975]</th>  \n",
       "</tr>\n",
       "<tr>\n",
       "  <th>ar.L1</th>  <td>    1.1621</td> <td>    0.091</td> <td>   12.717</td> <td> 0.000</td> <td>    0.983</td> <td>    1.341</td>\n",
       "</tr>\n",
       "<tr>\n",
       "  <th>ar.L2</th>  <td>   -0.8852</td> <td>    0.093</td> <td>   -9.488</td> <td> 0.000</td> <td>   -1.068</td> <td>   -0.702</td>\n",
       "</tr>\n",
       "<tr>\n",
       "  <th>ar.L3</th>  <td>    0.0524</td> <td>    0.083</td> <td>    0.634</td> <td> 0.526</td> <td>   -0.110</td> <td>    0.214</td>\n",
       "</tr>\n",
       "<tr>\n",
       "  <th>ar.L4</th>  <td>    0.2113</td> <td>    0.065</td> <td>    3.269</td> <td> 0.001</td> <td>    0.085</td> <td>    0.338</td>\n",
       "</tr>\n",
       "<tr>\n",
       "  <th>ma.L1</th>  <td>   -1.5466</td> <td>    0.082</td> <td>  -18.835</td> <td> 0.000</td> <td>   -1.708</td> <td>   -1.386</td>\n",
       "</tr>\n",
       "<tr>\n",
       "  <th>ma.L2</th>  <td>    1.3728</td> <td>    0.104</td> <td>   13.214</td> <td> 0.000</td> <td>    1.169</td> <td>    1.576</td>\n",
       "</tr>\n",
       "<tr>\n",
       "  <th>ma.L3</th>  <td>   -0.7532</td> <td>    0.071</td> <td>  -10.543</td> <td> 0.000</td> <td>   -0.893</td> <td>   -0.613</td>\n",
       "</tr>\n",
       "<tr>\n",
       "  <th>sigma2</th> <td>    0.0009</td> <td> 5.43e-05</td> <td>   17.338</td> <td> 0.000</td> <td>    0.001</td> <td>    0.001</td>\n",
       "</tr>\n",
       "</table>\n",
       "<table class=\"simpletable\">\n",
       "<tr>\n",
       "  <th>Ljung-Box (L1) (Q):</th>     <td>0.00</td> <th>  Jarque-Bera (JB):  </th> <td>237.47</td>\n",
       "</tr>\n",
       "<tr>\n",
       "  <th>Prob(Q):</th>                <td>0.99</td> <th>  Prob(JB):          </th>  <td>0.00</td> \n",
       "</tr>\n",
       "<tr>\n",
       "  <th>Heteroskedasticity (H):</th> <td>0.25</td> <th>  Skew:              </th>  <td>0.50</td> \n",
       "</tr>\n",
       "<tr>\n",
       "  <th>Prob(H) (two-sided):</th>    <td>0.00</td> <th>  Kurtosis:          </th>  <td>7.55</td> \n",
       "</tr>\n",
       "</table><br/><br/>Warnings:<br/>[1] Covariance matrix calculated using the outer product of gradients (complex-step)."
      ],
      "text/latex": [
       "\\begin{center}\n",
       "\\begin{tabular}{lclc}\n",
       "\\toprule\n",
       "\\textbf{Dep. Variable:}          &        y         & \\textbf{  No. Observations:  } &    263      \\\\\n",
       "\\textbf{Model:}                  & SARIMAX(4, 0, 3) & \\textbf{  Log Likelihood     } &  542.702    \\\\\n",
       "\\textbf{Date:}                   & Thu, 30 Nov 2023 & \\textbf{  AIC                } & -1069.405   \\\\\n",
       "\\textbf{Time:}                   &     20:19:24     & \\textbf{  BIC                } & -1040.828   \\\\\n",
       "\\textbf{Sample:}                 &    02-01-1996    & \\textbf{  HQIC               } & -1057.920   \\\\\n",
       "\\textbf{}                        &   - 12-01-2017   & \\textbf{                     } &             \\\\\n",
       "\\textbf{Covariance Type:}        &       opg        & \\textbf{                     } &             \\\\\n",
       "\\bottomrule\n",
       "\\end{tabular}\n",
       "\\begin{tabular}{lcccccc}\n",
       "                & \\textbf{coef} & \\textbf{std err} & \\textbf{z} & \\textbf{P$> |$z$|$} & \\textbf{[0.025} & \\textbf{0.975]}  \\\\\n",
       "\\midrule\n",
       "\\textbf{ar.L1}  &       1.1621  &        0.091     &    12.717  &         0.000        &        0.983    &        1.341     \\\\\n",
       "\\textbf{ar.L2}  &      -0.8852  &        0.093     &    -9.488  &         0.000        &       -1.068    &       -0.702     \\\\\n",
       "\\textbf{ar.L3}  &       0.0524  &        0.083     &     0.634  &         0.526        &       -0.110    &        0.214     \\\\\n",
       "\\textbf{ar.L4}  &       0.2113  &        0.065     &     3.269  &         0.001        &        0.085    &        0.338     \\\\\n",
       "\\textbf{ma.L1}  &      -1.5466  &        0.082     &   -18.835  &         0.000        &       -1.708    &       -1.386     \\\\\n",
       "\\textbf{ma.L2}  &       1.3728  &        0.104     &    13.214  &         0.000        &        1.169    &        1.576     \\\\\n",
       "\\textbf{ma.L3}  &      -0.7532  &        0.071     &   -10.543  &         0.000        &       -0.893    &       -0.613     \\\\\n",
       "\\textbf{sigma2} &       0.0009  &     5.43e-05     &    17.338  &         0.000        &        0.001    &        0.001     \\\\\n",
       "\\bottomrule\n",
       "\\end{tabular}\n",
       "\\begin{tabular}{lclc}\n",
       "\\textbf{Ljung-Box (L1) (Q):}     & 0.00 & \\textbf{  Jarque-Bera (JB):  } & 237.47  \\\\\n",
       "\\textbf{Prob(Q):}                & 0.99 & \\textbf{  Prob(JB):          } &  0.00   \\\\\n",
       "\\textbf{Heteroskedasticity (H):} & 0.25 & \\textbf{  Skew:              } &  0.50   \\\\\n",
       "\\textbf{Prob(H) (two-sided):}    & 0.00 & \\textbf{  Kurtosis:          } &  7.55   \\\\\n",
       "\\bottomrule\n",
       "\\end{tabular}\n",
       "%\\caption{SARIMAX Results}\n",
       "\\end{center}\n",
       "\n",
       "Warnings: \\newline\n",
       " [1] Covariance matrix calculated using the outer product of gradients (complex-step)."
      ],
      "text/plain": [
       "<class 'statsmodels.iolib.summary.Summary'>\n",
       "\"\"\"\n",
       "                               SARIMAX Results                                \n",
       "==============================================================================\n",
       "Dep. Variable:                      y   No. Observations:                  263\n",
       "Model:               SARIMAX(4, 0, 3)   Log Likelihood                 542.702\n",
       "Date:                Thu, 30 Nov 2023   AIC                          -1069.405\n",
       "Time:                        20:19:24   BIC                          -1040.828\n",
       "Sample:                    02-01-1996   HQIC                         -1057.920\n",
       "                         - 12-01-2017                                         \n",
       "Covariance Type:                  opg                                         \n",
       "==============================================================================\n",
       "                 coef    std err          z      P>|z|      [0.025      0.975]\n",
       "------------------------------------------------------------------------------\n",
       "ar.L1          1.1621      0.091     12.717      0.000       0.983       1.341\n",
       "ar.L2         -0.8852      0.093     -9.488      0.000      -1.068      -0.702\n",
       "ar.L3          0.0524      0.083      0.634      0.526      -0.110       0.214\n",
       "ar.L4          0.2113      0.065      3.269      0.001       0.085       0.338\n",
       "ma.L1         -1.5466      0.082    -18.835      0.000      -1.708      -1.386\n",
       "ma.L2          1.3728      0.104     13.214      0.000       1.169       1.576\n",
       "ma.L3         -0.7532      0.071    -10.543      0.000      -0.893      -0.613\n",
       "sigma2         0.0009   5.43e-05     17.338      0.000       0.001       0.001\n",
       "===================================================================================\n",
       "Ljung-Box (L1) (Q):                   0.00   Jarque-Bera (JB):               237.47\n",
       "Prob(Q):                              0.99   Prob(JB):                         0.00\n",
       "Heteroskedasticity (H):               0.25   Skew:                             0.50\n",
       "Prob(H) (two-sided):                  0.00   Kurtosis:                         7.55\n",
       "===================================================================================\n",
       "\n",
       "Warnings:\n",
       "[1] Covariance matrix calculated using the outer product of gradients (complex-step).\n",
       "\"\"\""
      ]
     },
     "execution_count": 348,
     "metadata": {},
     "output_type": "execute_result"
    }
   ],
   "source": [
    "model_arima.summary()"
   ]
  },
  {
   "cell_type": "markdown",
   "id": "dfcf38c2",
   "metadata": {},
   "source": [
    "Le modèle optimale est SARIMA(4,0,3)."
   ]
  },
  {
   "cell_type": "code",
   "execution_count": 373,
   "id": "d1aa7839",
   "metadata": {},
   "outputs": [
    {
     "name": "stderr",
     "output_type": "stream",
     "text": [
      "C:\\Users\\OH\\anaconda3\\lib\\site-packages\\statsmodels\\tsa\\base\\tsa_model.py:473: ValueWarning: No frequency information was provided, so inferred frequency MS will be used.\n",
      "  self._init_dates(dates, freq)\n",
      "C:\\Users\\OH\\anaconda3\\lib\\site-packages\\statsmodels\\tsa\\base\\tsa_model.py:473: ValueWarning: No frequency information was provided, so inferred frequency MS will be used.\n",
      "  self._init_dates(dates, freq)\n",
      "C:\\Users\\OH\\anaconda3\\lib\\site-packages\\statsmodels\\base\\model.py:607: ConvergenceWarning: Maximum Likelihood optimization failed to converge. Check mle_retvals\n",
      "  warnings.warn(\"Maximum Likelihood optimization failed to \"\n",
      "C:\\Users\\OH\\anaconda3\\lib\\site-packages\\statsmodels\\tsa\\statespace\\representation.py:374: FutureWarning: Unknown keyword arguments: dict_keys(['typ']).Passing unknown keyword arguments will raise a TypeError beginning in version 0.15.\n",
      "  warnings.warn(msg, FutureWarning)\n"
     ]
    },
    {
     "data": {
      "text/plain": [
       "<Axes: xlabel='Months'>"
      ]
     },
     "execution_count": 373,
     "metadata": {},
     "output_type": "execute_result"
    },
    {
     "data": {
      "image/png": "[encoded data removed]",
      "text/plain": [
       "<Figure size 640x480 with 1 Axes>"
      ]
     },
     "metadata": {},
     "output_type": "display_data"
    }
   ],
   "source": [
    "from statsmodels.tsa.statespace.sarimax import SARIMAX\n",
    "model_arima = SARIMAX(train[\"Ammonium\"],order=(4,0,3))\n",
    "fit = model_arima.fit()\n",
    "pred = fit.predict(start = split, end = len(data), typ = 'levels')\n",
    "pred.plot(legend = True)\n",
    "test[\"Ammonium\"].plot(legend = True)"
   ]
  },
  {
   "cell_type": "code",
   "execution_count": 381,
   "id": "8008cdb3",
   "metadata": {},
   "outputs": [
    {
     "data": {
      "text/plain": [
       "0.056179965151220965"
      ]
     },
     "execution_count": 381,
     "metadata": {},
     "output_type": "execute_result"
    }
   ],
   "source": [
    "np.sqrt(np.sum(((test[\"Ammonium\"]-pred).dropna())**2))"
   ]
  },
  {
   "cell_type": "markdown",
   "id": "2a46b61a",
   "metadata": {},
   "source": [
    "l'erreur obtenu est inférieure à celle obtenue avec LSTM."
   ]
  },
  {
   "cell_type": "markdown",
   "id": "3421b57c",
   "metadata": {},
   "source": [
    "Le modèle ARIMA a été plus performant."
   ]
  },
  {
   "cell_type": "markdown",
   "id": "73eda728",
   "metadata": {},
   "source": [
    "## Modèle fine-tuned"
   ]
  },
  {
   "cell_type": "markdown",
   "id": "3adf1887",
   "metadata": {},
   "source": [
    "On essaie de tuner nos hyperparamètres en utilisant l'optimisation bayesienne."
   ]
  },
  {
   "cell_type": "code",
   "execution_count": 384,
   "id": "6656ffc2",
   "metadata": {},
   "outputs": [],
   "source": [
    "data = pd.read_csv('Danube ammonium level Time Series.csv', sep = ';',decimal=',')\n",
    "data[\"Months\"]=pd.to_datetime(data[\"Months\"], dayfirst = True)"
   ]
  },
  {
   "cell_type": "code",
   "execution_count": null,
   "id": "c6091693",
   "metadata": {},
   "outputs": [],
   "source": [
    "import tensorflow as tf\n",
    "from tensorflow import keras\n",
    "from tensorflow.keras import Sequential\n",
    "from tensorflow.keras.layers import Flatten, Dense, Softmax\n",
    "from tensorflow.keras import optimizers\n",
    "from tensorflow.keras.layers import LSTM\n",
    "from sklearn.metrics import mean_squared_error"
   ]
  },
  {
   "cell_type": "code",
   "execution_count": 385,
   "id": "0782a668",
   "metadata": {},
   "outputs": [],
   "source": [
    "import sklearn\n",
    "min_max_scaler = sklearn.preprocessing.MinMaxScaler()\n",
    "x= np.array(data[\"Ammonium\"]).reshape(-1, 1)\n",
    "y = np.array(x[1:][:])\n",
    "x=np.array(x[:263][:])\n",
    "x_n = min_max_scaler.fit_transform(x)\n",
    "split=data[data[\"Months\"]==\"2016-12-01\"].index[0]\n",
    "x_train, y_train= x_n[:split+1], y[:split+1]\n",
    "x_test, y_test= x_n[split+1:], y[split+1:]"
   ]
  },
  {
   "cell_type": "code",
   "execution_count": 386,
   "id": "2a47e871",
   "metadata": {},
   "outputs": [],
   "source": [
    "import tensorflow as tf\n",
    "from tensorflow.keras.models import Sequential\n",
    "from tensorflow.keras.layers import LSTM, Dense\n",
    "from kerastuner.tuners import BayesianOptimization\n",
    "\n",
    "def build_model(hp):\n",
    "    model = Sequential()\n",
    "    model.add(LSTM(units=hp.Int('units', min_value=50, max_value=500, step=50), \n",
    "                   activation='relu', input_shape=(x_train.shape[1], 1)))\n",
    "    \n",
    "    for i in range(hp.Int('num_layers', 1, 3)): \n",
    "        model.add(Dense(units=hp.Int(f'layer_{i}_units', min_value=10, max_value=100, step=10), \n",
    "                        activation='relu'))\n",
    "\n",
    "    model.add(Dense(1, activation='linear'))\n",
    "\n",
    "    model.compile(loss='mse', optimizer=tf.keras.optimizers.Adam(\n",
    "        learning_rate=hp.Choice('learning_rate', values=[1e-2, 1e-3, 1e-4])))\n",
    "    \n",
    "    return model\n",
    "\n",
    "tuner = BayesianOptimization(\n",
    "    build_model,\n",
    "    objective='val_loss',\n",
    "    max_trials=10,  \n",
    "    executions_per_trial=2,  \n",
    "    directory='my_dir',  \n",
    "    project_name='lstm_hyperparam_tuning'\n",
    ")\n",
    "\n",
    "tuner.search(x_train, y_train, epochs=100, batch_size=len(train)//10, validation_split=0.2, verbose=0)\n",
    "\n",
    "best_hps = tuner.get_best_hyperparameters(num_trials=1)[0]\n",
    "\n",
    "best_model = tuner.hypermodel.build(best_hps)\n"
   ]
  },
  {
   "cell_type": "code",
   "execution_count": 387,
   "id": "41ca8855",
   "metadata": {},
   "outputs": [
    {
     "name": "stdout",
     "output_type": "stream",
     "text": [
      "Model: \"sequential_1\"\n",
      "_________________________________________________________________\n",
      " Layer (type)                Output Shape              Param #   \n",
      "=================================================================\n",
      " lstm_1 (LSTM)               (None, 500)               1004000   \n",
      "                                                                 \n",
      " dense_4 (Dense)             (None, 50)                25050     \n",
      "                                                                 \n",
      " dense_5 (Dense)             (None, 10)                510       \n",
      "                                                                 \n",
      " dense_6 (Dense)             (None, 1)                 11        \n",
      "                                                                 \n",
      "=================================================================\n",
      "Total params: 1029571 (3.93 MB)\n",
      "Trainable params: 1029571 (3.93 MB)\n",
      "Non-trainable params: 0 (0.00 Byte)\n",
      "_________________________________________________________________\n"
     ]
    }
   ],
   "source": [
    "best_model.summary()"
   ]
  },
  {
   "cell_type": "code",
   "execution_count": 388,
   "id": "85f6aad8",
   "metadata": {},
   "outputs": [],
   "source": [
    "history= best_model.fit(x_train, y_train, epochs=400, validation_split=0.2, verbose=0)"
   ]
  },
  {
   "cell_type": "code",
   "execution_count": 392,
   "id": "405d908c",
   "metadata": {},
   "outputs": [
    {
     "name": "stdout",
     "output_type": "stream",
     "text": [
      "meilleur epoch : 31\n"
     ]
    }
   ],
   "source": [
    "prec_par_epoch = history.history['val_loss']\n",
    "epoch_opt = prec_par_epoch.index(min(prec_par_epoch)) \n",
    "print(\"meilleur epoch :\", epoch_opt)"
   ]
  },
  {
   "cell_type": "code",
   "execution_count": 393,
   "id": "f4f010b5",
   "metadata": {},
   "outputs": [
    {
     "data": {
      "text/plain": [
       "<keras.src.callbacks.History at 0x237052ef790>"
      ]
     },
     "execution_count": 393,
     "metadata": {},
     "output_type": "execute_result"
    }
   ],
   "source": [
    "model_best = tuner.hypermodel.build(best_hps)\n",
    "model_best.fit(x_train, y_train, epochs=epoch_opt, validation_split=0.2,verbose=0)"
   ]
  },
  {
   "cell_type": "code",
   "execution_count": 394,
   "id": "1a5b3c98",
   "metadata": {},
   "outputs": [
    {
     "name": "stdout",
     "output_type": "stream",
     "text": [
      "1/1 [==============================] - 0s 247ms/step\n"
     ]
    }
   ],
   "source": [
    "y_pred = model_best.predict(x_test)"
   ]
  },
  {
   "cell_type": "code",
   "execution_count": 397,
   "id": "456a9f55",
   "metadata": {},
   "outputs": [
    {
     "data": {
      "text/plain": [
       "0.06093491300777041"
      ]
     },
     "execution_count": 397,
     "metadata": {},
     "output_type": "execute_result"
    }
   ],
   "source": [
    "np.sqrt(np.sum((y_pred-y_test)**2))"
   ]
  },
  {
   "cell_type": "markdown",
   "id": "ac0489ac",
   "metadata": {},
   "source": [
    "On a bien obtenu un mse inférieur au modèle initiale, mais l'ARIMA reste insurmontable."
   ]
  },
  {
   "cell_type": "markdown",
   "id": "83ac3ad8",
   "metadata": {},
   "source": [
    "# Conclusion :"
   ]
  },
  {
   "cell_type": "markdown",
   "id": "d89f6e79",
   "metadata": {},
   "source": [
    "- Notons que dans le dernier modèle, on a utlisé l'optimisateur bayesian à la place de grid search utlisé précédemment dans le modèle tuned en problème 4, en notant que cette méthode (bayesienne) effectue la recherche dans la grille des hyperparamètres d'une manière probabiliste. En résumé, Keras Tuner est une bibliothèque plus large qui offre différentes méthodes de recherche d'hyperparamètres, y compris l'optimisation bayésienne, tandis que l'optimisation bayésienne est une technique spécifique qui peut être utilisée pour optimiser les hyperparamètres de divers modèles d'apprentissage automatique. Utilisées ensemble, elles permettent d'effectuer une recherche d'hyperparamètres plus efficace pour les modèles Keras.4"
   ]
  },
  {
   "cell_type": "markdown",
   "id": "7b546737",
   "metadata": {},
   "source": [
    "- Il faut aussi ajouter qu'on a fine tune que le learning rate des optimisateurs, le nombre de couches intérmédiaires, et le nombre des unités par chaque couche. Pour aller au dessus, on peut aussi optimiser les $\\beta_1$ et $\\beta_2$ dans l'optimisateur Adam, et aussi le $\\epsilon$ utilisé pour eviter les zeros dans le dénominateur, mais cela reste assez spécifique et demandera des CPUs et GPUs plus puissants."
   ]
  }
 ],
 "metadata": {
  "kernelspec": {
   "display_name": "Python 3 (ipykernel)",
   "language": "python",
   "name": "python3"
  },
  "language_info": {
   "codemirror_mode": {
    "name": "ipython",
    "version": 3
   },
   "file_extension": ".py",
   "mimetype": "text/x-python",
   "name": "python",
   "nbconvert_exporter": "python",
   "pygments_lexer": "ipython3",
   "version": "3.11.5"
  }
 },
 "nbformat": 4,
 "nbformat_minor": 5
}
